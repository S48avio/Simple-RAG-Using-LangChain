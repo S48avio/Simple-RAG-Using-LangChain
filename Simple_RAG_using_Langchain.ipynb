{
  "nbformat": 4,
  "nbformat_minor": 0,
  "metadata": {
    "colab": {
      "provenance": [],
      "authorship_tag": "ABX9TyPLpLxV7o4k0C0eNs1x8/Te",
      "include_colab_link": true
    },
    "kernelspec": {
      "name": "python3",
      "display_name": "Python 3"
    },
    "language_info": {
      "name": "python"
    }
  },
  "cells": [
    {
      "cell_type": "markdown",
      "metadata": {
        "id": "view-in-github",
        "colab_type": "text"
      },
      "source": [
        "<a href=\"https://colab.research.google.com/github/S48avio/Simple-RAG-Using-LangChain/blob/main/Simple_RAG_using_Langchain.ipynb\" target=\"_parent\"><img src=\"https://colab.research.google.com/assets/colab-badge.svg\" alt=\"Open In Colab\"/></a>"
      ]
    },
    {
      "cell_type": "code",
      "source": [
        "!pip install langchain_community"
      ],
      "metadata": {
        "colab": {
          "base_uri": "https://localhost:8080/"
        },
        "collapsed": true,
        "id": "KeGUOph5Fq06",
        "outputId": "3f334d07-d5ba-4a2c-9dbb-2729b286c390"
      },
      "execution_count": 1,
      "outputs": [
        {
          "output_type": "stream",
          "name": "stdout",
          "text": [
            "Requirement already satisfied: langchain_community in /usr/local/lib/python3.11/dist-packages (0.3.24)\n",
            "Requirement already satisfied: langchain-core<1.0.0,>=0.3.59 in /usr/local/lib/python3.11/dist-packages (from langchain_community) (0.3.59)\n",
            "Requirement already satisfied: langchain<1.0.0,>=0.3.25 in /usr/local/lib/python3.11/dist-packages (from langchain_community) (0.3.25)\n",
            "Requirement already satisfied: SQLAlchemy<3,>=1.4 in /usr/local/lib/python3.11/dist-packages (from langchain_community) (2.0.40)\n",
            "Requirement already satisfied: requests<3,>=2 in /usr/local/lib/python3.11/dist-packages (from langchain_community) (2.32.3)\n",
            "Requirement already satisfied: PyYAML>=5.3 in /usr/local/lib/python3.11/dist-packages (from langchain_community) (6.0.2)\n",
            "Requirement already satisfied: aiohttp<4.0.0,>=3.8.3 in /usr/local/lib/python3.11/dist-packages (from langchain_community) (3.11.15)\n",
            "Requirement already satisfied: tenacity!=8.4.0,<10,>=8.1.0 in /usr/local/lib/python3.11/dist-packages (from langchain_community) (9.1.2)\n",
            "Requirement already satisfied: dataclasses-json<0.7,>=0.5.7 in /usr/local/lib/python3.11/dist-packages (from langchain_community) (0.6.7)\n",
            "Requirement already satisfied: pydantic-settings<3.0.0,>=2.4.0 in /usr/local/lib/python3.11/dist-packages (from langchain_community) (2.9.1)\n",
            "Requirement already satisfied: langsmith<0.4,>=0.1.125 in /usr/local/lib/python3.11/dist-packages (from langchain_community) (0.3.42)\n",
            "Requirement already satisfied: httpx-sse<1.0.0,>=0.4.0 in /usr/local/lib/python3.11/dist-packages (from langchain_community) (0.4.0)\n",
            "Requirement already satisfied: numpy>=1.26.2 in /usr/local/lib/python3.11/dist-packages (from langchain_community) (2.0.2)\n",
            "Requirement already satisfied: aiohappyeyeballs>=2.3.0 in /usr/local/lib/python3.11/dist-packages (from aiohttp<4.0.0,>=3.8.3->langchain_community) (2.6.1)\n",
            "Requirement already satisfied: aiosignal>=1.1.2 in /usr/local/lib/python3.11/dist-packages (from aiohttp<4.0.0,>=3.8.3->langchain_community) (1.3.2)\n",
            "Requirement already satisfied: attrs>=17.3.0 in /usr/local/lib/python3.11/dist-packages (from aiohttp<4.0.0,>=3.8.3->langchain_community) (25.3.0)\n",
            "Requirement already satisfied: frozenlist>=1.1.1 in /usr/local/lib/python3.11/dist-packages (from aiohttp<4.0.0,>=3.8.3->langchain_community) (1.6.0)\n",
            "Requirement already satisfied: multidict<7.0,>=4.5 in /usr/local/lib/python3.11/dist-packages (from aiohttp<4.0.0,>=3.8.3->langchain_community) (6.4.3)\n",
            "Requirement already satisfied: propcache>=0.2.0 in /usr/local/lib/python3.11/dist-packages (from aiohttp<4.0.0,>=3.8.3->langchain_community) (0.3.1)\n",
            "Requirement already satisfied: yarl<2.0,>=1.17.0 in /usr/local/lib/python3.11/dist-packages (from aiohttp<4.0.0,>=3.8.3->langchain_community) (1.20.0)\n",
            "Requirement already satisfied: marshmallow<4.0.0,>=3.18.0 in /usr/local/lib/python3.11/dist-packages (from dataclasses-json<0.7,>=0.5.7->langchain_community) (3.26.1)\n",
            "Requirement already satisfied: typing-inspect<1,>=0.4.0 in /usr/local/lib/python3.11/dist-packages (from dataclasses-json<0.7,>=0.5.7->langchain_community) (0.9.0)\n",
            "Requirement already satisfied: langchain-text-splitters<1.0.0,>=0.3.8 in /usr/local/lib/python3.11/dist-packages (from langchain<1.0.0,>=0.3.25->langchain_community) (0.3.8)\n",
            "Requirement already satisfied: pydantic<3.0.0,>=2.7.4 in /usr/local/lib/python3.11/dist-packages (from langchain<1.0.0,>=0.3.25->langchain_community) (2.11.4)\n",
            "Requirement already satisfied: jsonpatch<2.0,>=1.33 in /usr/local/lib/python3.11/dist-packages (from langchain-core<1.0.0,>=0.3.59->langchain_community) (1.33)\n",
            "Requirement already satisfied: packaging<25,>=23.2 in /usr/local/lib/python3.11/dist-packages (from langchain-core<1.0.0,>=0.3.59->langchain_community) (24.2)\n",
            "Requirement already satisfied: typing-extensions>=4.7 in /usr/local/lib/python3.11/dist-packages (from langchain-core<1.0.0,>=0.3.59->langchain_community) (4.13.2)\n",
            "Requirement already satisfied: httpx<1,>=0.23.0 in /usr/local/lib/python3.11/dist-packages (from langsmith<0.4,>=0.1.125->langchain_community) (0.28.1)\n",
            "Requirement already satisfied: orjson<4.0.0,>=3.9.14 in /usr/local/lib/python3.11/dist-packages (from langsmith<0.4,>=0.1.125->langchain_community) (3.10.18)\n",
            "Requirement already satisfied: requests-toolbelt<2.0.0,>=1.0.0 in /usr/local/lib/python3.11/dist-packages (from langsmith<0.4,>=0.1.125->langchain_community) (1.0.0)\n",
            "Requirement already satisfied: zstandard<0.24.0,>=0.23.0 in /usr/local/lib/python3.11/dist-packages (from langsmith<0.4,>=0.1.125->langchain_community) (0.23.0)\n",
            "Requirement already satisfied: python-dotenv>=0.21.0 in /usr/local/lib/python3.11/dist-packages (from pydantic-settings<3.0.0,>=2.4.0->langchain_community) (1.1.0)\n",
            "Requirement already satisfied: typing-inspection>=0.4.0 in /usr/local/lib/python3.11/dist-packages (from pydantic-settings<3.0.0,>=2.4.0->langchain_community) (0.4.0)\n",
            "Requirement already satisfied: charset-normalizer<4,>=2 in /usr/local/lib/python3.11/dist-packages (from requests<3,>=2->langchain_community) (3.4.2)\n",
            "Requirement already satisfied: idna<4,>=2.5 in /usr/local/lib/python3.11/dist-packages (from requests<3,>=2->langchain_community) (3.10)\n",
            "Requirement already satisfied: urllib3<3,>=1.21.1 in /usr/local/lib/python3.11/dist-packages (from requests<3,>=2->langchain_community) (2.4.0)\n",
            "Requirement already satisfied: certifi>=2017.4.17 in /usr/local/lib/python3.11/dist-packages (from requests<3,>=2->langchain_community) (2025.4.26)\n",
            "Requirement already satisfied: greenlet>=1 in /usr/local/lib/python3.11/dist-packages (from SQLAlchemy<3,>=1.4->langchain_community) (3.2.2)\n",
            "Requirement already satisfied: anyio in /usr/local/lib/python3.11/dist-packages (from httpx<1,>=0.23.0->langsmith<0.4,>=0.1.125->langchain_community) (4.9.0)\n",
            "Requirement already satisfied: httpcore==1.* in /usr/local/lib/python3.11/dist-packages (from httpx<1,>=0.23.0->langsmith<0.4,>=0.1.125->langchain_community) (1.0.9)\n",
            "Requirement already satisfied: h11>=0.16 in /usr/local/lib/python3.11/dist-packages (from httpcore==1.*->httpx<1,>=0.23.0->langsmith<0.4,>=0.1.125->langchain_community) (0.16.0)\n",
            "Requirement already satisfied: jsonpointer>=1.9 in /usr/local/lib/python3.11/dist-packages (from jsonpatch<2.0,>=1.33->langchain-core<1.0.0,>=0.3.59->langchain_community) (3.0.0)\n",
            "Requirement already satisfied: annotated-types>=0.6.0 in /usr/local/lib/python3.11/dist-packages (from pydantic<3.0.0,>=2.7.4->langchain<1.0.0,>=0.3.25->langchain_community) (0.7.0)\n",
            "Requirement already satisfied: pydantic-core==2.33.2 in /usr/local/lib/python3.11/dist-packages (from pydantic<3.0.0,>=2.7.4->langchain<1.0.0,>=0.3.25->langchain_community) (2.33.2)\n",
            "Requirement already satisfied: mypy-extensions>=0.3.0 in /usr/local/lib/python3.11/dist-packages (from typing-inspect<1,>=0.4.0->dataclasses-json<0.7,>=0.5.7->langchain_community) (1.1.0)\n",
            "Requirement already satisfied: sniffio>=1.1 in /usr/local/lib/python3.11/dist-packages (from anyio->httpx<1,>=0.23.0->langsmith<0.4,>=0.1.125->langchain_community) (1.3.1)\n"
          ]
        }
      ]
    },
    {
      "cell_type": "code",
      "source": [
        "#Data Ingestion from text\n",
        "from langchain_community.document_loaders import TextLoader\n",
        "loader=TextLoader(\"/content/speech.txt\") #Upload a txt file\n",
        "text_documents=loader.load()\n",
        "text_documents"
      ],
      "metadata": {
        "colab": {
          "base_uri": "https://localhost:8080/"
        },
        "collapsed": true,
        "id": "JlhC5DDjExrs",
        "outputId": "f13eac6d-1601-44ff-eccc-d2eb4684ebf7"
      },
      "execution_count": 2,
      "outputs": [
        {
          "output_type": "execute_result",
          "data": {
            "text/plain": [
              "[Document(metadata={'source': '/content/speech.txt'}, page_content=\"Five score years ago, a great American, in whose symbolic shadow we stand today, signed the Emancipation Proclamation. This momentous decree came as a great beacon light of hope to millions of Negro slaves who had been seared in the flames of withering injustice. It came as a joyous daybreak to end the long night of their captivity.\\n\\nBut 100 years later, the Negro still is not free. One hundred years later, the life of the Negro is still sadly crippled by the manacles of segregation and the chains of discrimination. One hundred years later, the Negro lives on a lonely island of poverty in the midst of a vast ocean of material prosperity. One hundred years later the Negro is still languished in the corners of American society and finds himself in exile in his own land. And so we've come here today to dramatize a shameful condition. In a sense we've come to our nation's capital to cash a check.When the architects of our republic wrote the magnificent words of the Constitution and the Declaration of Independence, they were signing a promissory note to which every American was to fall heir. This note was a promise that all men — yes, Black men as well as white men — would be guaranteed the unalienable rights of life, liberty and the pursuit of happiness.\\n\\nIt is obvious today that America has defaulted on this promissory note insofar as her citizens of color are concerned. Instead of honoring this sacred obligation, America has given the Negro people a bad check, a check which has come back marked insufficient funds.\\n\\nBut we refuse to believe that the bank of justice is bankrupt.We refuse to believe that there are insufficient funds in the great vaults of opportunity of this nation. And so we've come to cash this check, a check that will give us upon demand the riches of freedom and the security of justice.\\n\\nWe have also come to this hallowed spot to remind America of the fierce urgency of now. This is no time to engage in the luxury of cooling off or to take the tranquilizing drug of gradualism.\\n\\nNow is the time to make real the promises of democracy. Now is the time to rise from the dark and desolate valley of segregation to the sunlit path of racial justice. Now is the time to lift our nation from the quick sands of racial injustice to the solid rock of brotherhood. Now is the time to make justice a reality for all of God's children.It would be fatal for the nation to overlook the urgency of the moment. This sweltering summer of the Negro's legitimate discontent will not pass until there is an invigorating autumn of freedom and equality. 1963 is not an end, but a beginning. Those who hope that the Negro needed to blow off steam and will now be content will have a rude awakening if the nation returns to business as usual.\\n\\nThere will be neither rest nor tranquility in America until the Negro is granted his citizenship rights. The whirlwinds of revolt will continue to shake the foundations of our nation until the bright day of justice emerges.\\n\\nBut there is something that I must say to my people who stand on the warm threshold which leads into the palace of justice. In the process of gaining our rightful place, we must not be guilty of wrongful deeds. Let us not seek to satisfy our thirst for freedom by drinking from the cup of bitterness and hatred.We must forever conduct our struggle on the high plane of dignity and discipline. We must not allow our creative protest to degenerate into physical violence. Again and again, we must rise to the majestic heights of meeting physical force with soul force. The marvelous new militancy which has engulfed the Negro community must not lead us to a distrust of all white people, for many of our white brothers, as evidenced by their presence here today, have come to realize that their destiny is tied up with our destiny.\\n\\nAnd they have come to realize that their freedom is inextricably bound to our freedom. We cannot walk alone. And as we walk, we must make the pledge that we shall always march ahead. We cannot turn back.\\n\\nThere are those who are asking the devotees of civil rights, when will you be satisfied? We can never be satisfied as long as the Negro is the victim of the unspeakable horrors of police brutality. We can never be satisfied as long as our bodies, heavy with the fatigue of travel, cannot gain lodging in the motels of the highways and the hotels of the cities.\\n\\nWe cannot be satisfied as long as the Negro's basic mobility is from a smaller ghetto to a larger one. We can never be satisfied as long as our children are stripped of their selfhood and robbed of their dignity by signs stating: for whites only.\\n\\nWe cannot be satisfied as long as a Negro in Mississippi cannot vote and a Negro in New York believes he has nothing for which to vote.\\n\\nNo, no, we are not satisfied, and we will not be satisfied until justice rolls down like waters, and righteousness like a mighty stream.\\nI  am not unmindful that some of you have come here out of great trials and tribulations. Some of you have come fresh from narrow jail cells. Some of you have come from areas where your quest for freedom left you battered by the storms of persecution and staggered by the winds of police brutality. You have been the veterans of creative suffering. Continue to work with the faith that unearned suffering is redemptive. Go back to Mississippi, go back to Alabama, go back to South Carolina, go back to Georgia, go back to Louisiana, go back to the slums and ghettos of our Northern cities, knowing that somehow this situation can and will be changed.\\n\\nLet us not wallow in the valley of despair, I say to you today, my friends.\\n\\nSo even though we face the difficulties of today and tomorrow, I still have a dream. It is a dream deeply rooted in the American dream. I have a dream that one day this nation will rise up and live out the true meaning of its creed: We hold these truths to be self-evident, that all men are created equal.\\nI have a dream that one day on the red hills of Georgia, the sons of former slaves and the sons of former slave owners will be able to sit down together at the table of brotherhood.\\n\\nI have a dream that one day even the state of Mississippi, a state sweltering with the heat of injustice, sweltering with the heat of oppression will be transformed into an oasis of freedom and justice.\\n\\nI have a dream that my four little children will one day live in a nation where they will not be judged by the color of their skin but by the content of their character. I have a dream today.\\n\\nI have a dream that one day down in Alabama with its vicious racists, with its governor having his lips dripping with the words of interposition and nullification, one day right down in Alabama little Black boys and Black girls will be able to join hands with little white boys and white girls as sisters and brothers. I have a dream today.\\n\\nI have a dream that one day every valley shall be exalted, every hill and mountain shall be made low, the rough places will be made plain, and the crooked places will be made straight, and the glory of the Lord shall be revealed, and all flesh shall see it together.\")]"
            ]
          },
          "metadata": {},
          "execution_count": 2
        }
      ]
    },
    {
      "cell_type": "code",
      "source": [
        "#Data Ingestion from WEB\n",
        "from langchain_community.document_loaders import WebBaseLoader\n",
        "import bs4    #BeatifulSoup\n",
        "\n",
        "##load,chunk and index the content of web  pages\n",
        "loader=WebBaseLoader(web_path=\"https://huggingface.co/\")\n",
        "web_documents=loader.load()\n",
        "print(web_documents)\n"
      ],
      "metadata": {
        "colab": {
          "base_uri": "https://localhost:8080/"
        },
        "collapsed": true,
        "id": "O7ygYYucGdW7",
        "outputId": "47aab314-3b27-4f71-d9f1-8df9ad1335e4"
      },
      "execution_count": 3,
      "outputs": [
        {
          "output_type": "stream",
          "name": "stderr",
          "text": [
            "WARNING:langchain_community.utils.user_agent:USER_AGENT environment variable not set, consider setting it to identify your requests.\n"
          ]
        },
        {
          "output_type": "stream",
          "name": "stdout",
          "text": [
            "[Document(metadata={'source': 'https://huggingface.co/', 'title': 'Hugging Face ‚Äì The AI community building the future.', 'description': 'We‚Äôre on a journey to advance and democratize artificial intelligence through open source and open science.', 'language': 'No language found.'}, page_content='\\n\\n\\n\\n\\n\\n\\n\\n\\n\\n\\n\\n\\n\\n\\n\\n\\n\\n\\n\\n\\n\\n\\n \\nHugging Face ‚Äì The AI community building the future.\\n\\n\\n\\n\\n\\n\\n\\n\\nHugging Face\\n\\n\\n\\n\\n\\n\\n\\n\\t\\t\\t\\t\\tModels\\n\\n\\t\\t\\t\\t\\tDatasets\\n\\n\\t\\t\\t\\t\\tSpaces\\n\\n\\t\\t\\t\\t\\tPosts\\n\\n\\t\\t\\t\\t\\tDocs\\n\\n\\t\\t\\t\\t\\tEnterprise\\n\\nPricing\\n\\t\\t\\t\\n\\n\\n\\n\\n\\n\\nLog In\\n\\t\\t\\t\\t\\nSign Up\\n\\t\\t\\t\\t\\t\\n\\n\\n\\nThe AI community building the future.\\n\\t\\t\\t\\nThe platform where the machine learning community collaborates on models, datasets, and applications.\\n\\t\\t\\t\\nExplore AI Apps\\n\\t\\t\\t\\t\\t\\n\\n\\nor\\nBrowse 1M+ models\\n\\n\\n\\n\\n\\n\\n\\t\\t\\tTrending onthis week\\n\\t\\t\\t\\n\\n\\n\\t\\t\\t\\t\\tModels\\n\\t\\t\\t\\t\\n\\nnvidia/parakeet-tdt-0.6b-v2\\n\\n\\nUpdated\\n\\t\\t\\t\\t\\t4 days ago\\n‚Ä¢ \\n\\n\\t\\t\\t\\t\\t56.6k\\n\\t\\t\\t\\t\\n\\t\\t\\t\\t‚Ä¢ \\n\\n\\t\\t\\t\\t\\t970\\n\\n\\t\\t\\t\\t\\n\\nnari-labs/Dia-1.6B\\n\\n\\nUpdated\\n\\t\\t\\t\\t\\t6 days ago\\n‚Ä¢ \\n\\n\\t\\t\\t\\t\\t143k\\n\\t\\t\\t\\t\\n\\t\\t\\t\\t‚Ä¢ \\n\\n\\t\\t\\t\\t\\t2.26k\\n\\n\\t\\t\\t\\t\\n\\nWan-AI/Wan2.1-VACE-14B\\n\\n\\nUpdated\\n\\t\\t\\t\\t\\tabout 17 hours ago\\n‚Ä¢ \\n\\n\\t\\t\\t\\t\\t8.8k\\n\\t\\t\\t\\t\\n\\t\\t\\t\\t‚Ä¢ \\n\\n\\t\\t\\t\\t\\t192\\n\\n\\t\\t\\t\\t\\n\\nlodestones/Chroma\\n\\n\\nUpdated\\n\\t\\t\\t\\t\\t1 day ago\\n‚Ä¢ \\n\\n\\t\\t\\t\\t\\t612\\n\\n\\t\\t\\t\\t\\n\\nmultimodalart/isometric-skeumorphic-3d-bnb\\n\\n\\nUpdated\\n\\t\\t\\t\\t\\t4 days ago\\n‚Ä¢ \\n\\n\\t\\t\\t\\t\\t550\\n\\t\\t\\t\\t\\n\\t\\t\\t\\t‚Ä¢ \\n\\n\\t\\t\\t\\t\\t183\\n\\n\\t\\t\\t\\t\\n\\nBrowse 1M+ models\\n\\n\\t\\t\\t\\t\\tSpaces\\n\\t\\t\\t\\t\\n\\n\\n\\n\\n\\t\\tRunning\\n\\t\\t\\n\\n\\n\\n\\n6.78k\\n\\n\\n6.78k\\nDeepSite\\n\\uf8ffüê≥\\nGenerate any application with DeepSeek\\n\\n\\n\\n\\n\\t\\tRunning\\n\\t\\t\\n\\t\\t\\ton \\nCPU Upgrade\\n\\n\\n\\n\\n700\\n\\n\\n700\\nComputer Agent\\n\\uf8ffüñ•\\nInteract with an AI agent to perform web tasks\\n\\n\\n\\n\\n\\t\\tRunning\\n\\t\\t\\n\\t\\t\\ton \\n\\nZero\\n\\n\\n\\n\\n428\\n\\n\\n428\\nDreamO\\n\\uf8ffüê®\\nA Unified Framework for Image Customization\\n\\n\\n\\n\\n\\t\\tRunning\\n\\t\\t\\n\\t\\t\\ton \\n\\nZero\\n\\n\\n\\n\\n231\\n\\n\\n231\\nLTX Video Fast\\n\\uf8ffüé•\\nultra-fast video model, LTX 0.9.7 13B distilled\\n\\n\\n\\n\\n\\t\\tRunning\\n\\t\\t\\n\\n\\n\\n\\n465\\n\\n\\n465\\nFLUX Pro Unlimited\\n\\uf8ffüî•\\nUse the FLUX-Pro model as much as you want.\\n\\nBrowse 400k+ applications\\n\\n\\t\\t\\t\\t\\tDatasets\\n\\t\\t\\t\\t\\n\\nopenbmb/Ultra-FineWeb\\n\\n\\nUpdated\\n\\t\\t\\t\\t\\t11 days ago\\n‚Ä¢ \\n\\n\\t\\t\\t\\t\\t8.64k\\n\\t\\t\\t\\t\\n\\t\\t\\t\\t‚Ä¢ \\n\\n\\t\\t\\t\\t\\t85\\n\\n\\t\\t\\t\\t\\n\\nnvidia/OpenCodeReasoning\\n\\n\\nUpdated\\n\\t\\t\\t\\t\\t15 days ago\\n‚Ä¢ \\n\\n\\t\\t\\t\\t\\t14k\\n\\t\\t\\t\\t\\n\\t\\t\\t\\t‚Ä¢ \\n\\n\\t\\t\\t\\t\\t422\\n\\n\\t\\t\\t\\t\\n\\nPrimeIntellect/INTELLECT-2-RL-Dataset\\n\\n\\nUpdated\\n\\t\\t\\t\\t\\t7 days ago\\n‚Ä¢ \\n\\n\\t\\t\\t\\t\\t856\\n\\t\\t\\t\\t\\n\\t\\t\\t\\t‚Ä¢ \\n\\n\\t\\t\\t\\t\\t50\\n\\n\\t\\t\\t\\t\\n\\nnvidia/OpenMathReasoning\\n\\n\\nUpdated\\n\\t\\t\\t\\t\\t10 days ago\\n‚Ä¢ \\n\\n\\t\\t\\t\\t\\t43.5k\\n\\t\\t\\t\\t\\n\\t\\t\\t\\t‚Ä¢ \\n\\n\\t\\t\\t\\t\\t241\\n\\n\\t\\t\\t\\t\\n\\nDMindAI/DMind_Benchmark\\n\\n\\nUpdated\\n\\t\\t\\t\\t\\t2 days ago\\n‚Ä¢ \\n\\n\\t\\t\\t\\t\\t2.82k\\n\\t\\t\\t\\t\\n\\t\\t\\t\\t‚Ä¢ \\n\\n\\t\\t\\t\\t\\t75\\n\\n\\t\\t\\t\\t\\n\\nBrowse 250k+ datasets\\n\\n\\nThe Home of Machine Learning\\n\\nCreate, discover and collaborate on ML better.\\n\\t\\t\\t\\nThe collaboration platform\\nHost and collaborate on unlimited public models, datasets and applications.\\n\\t\\t\\t\\t\\t\\n\\n\\n\\nMove faster\\nWith the HF Open source stack.\\n\\n\\n\\nExplore all modalities\\nText, image, video, audio or even 3D.\\n\\n\\nBuild your portfolio\\nShare your work with the world and build your ML profile.\\nSign Up\\n\\t\\t\\t\\t\\t\\n\\n\\n\\n\\nAccelerate your ML\\n\\nWe provide paid Compute and Enterprise solutions.\\nCompute\\nDeploy on optimized Inference Endpoints or update your\\n\\t\\t\\t\\t\\t\\tSpaces applications to a GPU in a few clicks.\\n\\t\\t\\t\\t\\t\\nView pricing\\n\\t\\t\\t\\t\\t\\t\\nStarting at $0.60/hour for GPU\\n\\n\\nEnterprise\\nGive your team the most advanced platform to build AI with enterprise-grade security, access controls and\\n\\t\\t\\tdedicated support.\\n\\t\\t\\nGetting started\\n\\t\\t\\t\\nStarting at $20/user/month\\nSingle Sign-OnRegionsPriority SupportAudit LogsResource GroupsPrivate Datasets Viewer\\n\\n\\n\\n\\n\\n\\n\\nMore than 50,000 organizations are using Hugging Face\\n\\n\\nAi2\\nEnterprise \\n\\nnon-profit\\n‚Ä¢\\n\\t\\t\\t\\t757 models\\n\\t\\t\\t\\t‚Ä¢\\n\\t\\t\\t\\t3.29k followers\\n\\t\\t\\t\\t\\n\\nAI at Meta\\nEnterprise \\n\\ncompany\\n‚Ä¢\\n\\t\\t\\t\\t2.13k models\\n\\t\\t\\t\\t‚Ä¢\\n\\t\\t\\t\\t6.02k followers\\n\\t\\t\\t\\t\\n\\nAmazon\\n\\ncompany\\n‚Ä¢\\n\\t\\t\\t\\t20 models\\n\\t\\t\\t\\t‚Ä¢\\n\\t\\t\\t\\t3.17k followers\\n\\t\\t\\t\\t\\n\\nGoogle\\n\\ncompany\\n‚Ä¢\\n\\t\\t\\t\\t991 models\\n\\t\\t\\t\\t‚Ä¢\\n\\t\\t\\t\\t13.3k followers\\n\\t\\t\\t\\t\\n\\nIntel\\n\\ncompany\\n‚Ä¢\\n\\t\\t\\t\\t221 models\\n\\t\\t\\t\\t‚Ä¢\\n\\t\\t\\t\\t2.55k followers\\n\\t\\t\\t\\t\\n\\nMicrosoft\\n\\ncompany\\n‚Ä¢\\n\\t\\t\\t\\t374 models\\n\\t\\t\\t\\t‚Ä¢\\n\\t\\t\\t\\t12.4k followers\\n\\t\\t\\t\\t\\n\\nGrammarly\\nEnterprise \\n\\ncompany\\n‚Ä¢\\n\\t\\t\\t\\t10 models\\n\\t\\t\\t\\t‚Ä¢\\n\\t\\t\\t\\t160 followers\\n\\t\\t\\t\\t\\n\\nWriter\\nEnterprise \\n\\ncompany\\n‚Ä¢\\n\\t\\t\\t\\t21 models\\n\\t\\t\\t\\t‚Ä¢\\n\\t\\t\\t\\t267 followers\\n\\t\\t\\t\\t\\n\\n\\n\\n\\nOur Open Source\\n\\nWe are building the foundation of ML tooling with the community.\\n\\t\\t\\t\\n\\n\\n\\t\\t\\t\\t\\t\\t\\tTransformers\\n\\n144,529\\nState-of-the-art ML for PyTorch, TensorFlow, JAX\\n\\n\\n\\t\\t\\t\\t\\t\\t\\tDiffusers\\n\\n29,030\\nState-of-the-art Diffusion models in PyTorch\\n\\n\\n\\t\\t\\t\\t\\t\\t\\tSafetensors\\n\\n3,270\\nSafe way to store/distribute neural network weights\\n\\n\\n\\t\\t\\t\\t\\t\\t\\tHub Python Library\\n\\n2,604\\nPython client to interact with the Hugging Face Hub\\n\\n\\n\\t\\t\\t\\t\\t\\t\\tTokenizers\\n\\n9,687\\nFast tokenizers optimized for research & production\\n\\n\\n\\t\\t\\t\\t\\t\\t\\tTRL\\n\\n13,805\\nTrain transformers LMs with reinforcement learning\\n\\n\\n\\t\\t\\t\\t\\t\\t\\tTransformers.js\\n\\n13,619\\nState-of-the-art ML running directly in your browser\\n\\n\\n\\t\\t\\t\\t\\t\\t\\tsmolagents\\n\\n18,843\\nSmol library to build great agents in Python\\n\\n\\n\\t\\t\\t\\t\\t\\t\\tPEFT\\n\\n18,443\\nParameter-efficient finetuning for large language models\\n\\n\\n\\t\\t\\t\\t\\t\\t\\tDatasets\\n\\n20,137\\nAccess & share datasets for any ML tasks\\n\\n\\n\\t\\t\\t\\t\\t\\t\\tText Generation Inference\\n\\n10,135\\nServe language models with TGI optimized toolkit\\n\\n\\n\\t\\t\\t\\t\\t\\t\\tAccelerate\\n\\n8,726\\nTrain PyTorch models with multi-GPU, TPU, mixed precision\\n\\n\\n\\n\\n\\n\\n\\n\\n\\t\\t\\tSystem theme\\n\\t\\t\\n\\nWebsite\\nModels \\nDatasets \\nSpaces \\nTasks \\nInference Endpoints \\nHuggingChat \\nCompany\\nAbout \\nBrand assets \\nTerms of service \\nPrivacy \\nJobs \\nPress \\nResources\\nLearn \\nDocumentation \\nBlog \\nForum \\nService Status \\nSocial\\nGitHub \\nTwitter \\nLinkedIn \\nDiscord \\n\\n\\n\\n\\n\\n\\n')]\n"
          ]
        }
      ]
    },
    {
      "cell_type": "code",
      "source": [
        "!pip install PyPDF"
      ],
      "metadata": {
        "colab": {
          "base_uri": "https://localhost:8080/"
        },
        "id": "eP8kHkINJOTw",
        "outputId": "e4ee82c9-efaf-45dc-9b67-a1f5512d989c"
      },
      "execution_count": 4,
      "outputs": [
        {
          "output_type": "stream",
          "name": "stdout",
          "text": [
            "Requirement already satisfied: PyPDF in /usr/local/lib/python3.11/dist-packages (5.5.0)\n"
          ]
        }
      ]
    },
    {
      "cell_type": "code",
      "source": [
        "#Data Ingestion from pdf\n",
        "from langchain_community.document_loaders import PyPDFLoader\n",
        "loader=PyPDFLoader(\"/content/SET- Secure Electronic Transaction.pdf\")\n",
        "pdf_documents=loader.load()\n",
        "pdf_documents"
      ],
      "metadata": {
        "colab": {
          "base_uri": "https://localhost:8080/"
        },
        "collapsed": true,
        "id": "fH7dtqRRIpIt",
        "outputId": "7c8d0336-894e-42a6-e622-b1d34edb2516"
      },
      "execution_count": 5,
      "outputs": [
        {
          "output_type": "execute_result",
          "data": {
            "text/plain": [
              "[Document(metadata={'producer': 'Skia/PDF m136 Google Docs Renderer', 'creator': 'PyPDF', 'creationdate': '', 'title': 'SET- Secure Electronic Transaction', 'source': '/content/SET- Secure Electronic Transaction.pdf', 'total_pages': 7, 'page': 0, 'page_label': '1'}, page_content='SET-Secure  Electronic  Transaction  \\n \\nSecure  Electronic  Transaction  (SET)  is  much  more  than  a  simple  encryption  method—it’s  an  \\nentire\\n \\nprotocol\\n \\ndesigned\\n \\nin\\n \\nthe\\n \\nmid\\n‑\\n1990s\\n \\nby\\n \\na\\n \\nconsortium\\n \\nincluding\\n \\nVisa,\\n \\nMasterCard,\\n \\nIBM,\\n \\nMicrosoft,\\n \\nNetscape,\\n \\nand\\n \\nothers\\n \\nto\\n \\nsecure\\n \\nonline\\n \\ncredit\\n \\nand\\n \\ndebit\\n \\ncard\\n \\ntransactions.\\n \\nLet’s\\n \\nbreak\\n \\ndown\\n \\nits\\n \\nkey\\n \\naspects\\n \\nin\\n \\nmore\\n \\ndetail:\\n \\nCore  Concepts  and  Components  \\n●  Public  Key  Infrastructure  (PKI)  and  Digital  Certificates:  \\n \\nSET\\n \\nleverages\\n \\na\\n \\nPKI\\n \\nframework\\n \\nto\\n \\nissue\\n \\nand\\n \\nvalidate\\n \\nX.509\\n \\ndigital\\n \\ncertificates.\\n \\nThese\\n \\ncertificates\\n \\nserve\\n \\nas\\n \\nelectronic\\n \\nIDs\\n \\nfor\\n \\nall\\n \\nparties—cardholder,\\n \\nmerchant,\\n \\nissuer,\\n \\nand\\n \\nacquirer—ensuring\\n \\nthat\\n \\neach\\n \\nparticipant\\n \\nis\\n \\nauthenticated\\n \\nbefore\\n \\na\\n \\ntransaction\\n \\nis\\n processed.  ●  Dual  Signatures:  \\n \\nOne\\n \\nof\\n \\nthe\\n \\nhallmark\\n \\nfeatures\\n \\nof\\n \\nSET\\n \\nis\\n \\nthe\\n \\nuse\\n \\nof\\n \\ndual\\n \\nsignatures.\\n \\nIn\\n \\na\\n \\ntransaction,\\n \\nthe\\n \\ncardholder\\n \\ncreates\\n \\ntwo\\n \\nseparate\\n \\ndata\\n \\nstreams:\\n \\none\\n \\ncontains\\n \\nthe\\n \\norder\\n \\ninformation\\n \\n(OI)\\n \\nfor\\n \\nthe\\n \\nmerchant,\\n \\nand\\n \\nthe\\n \\nother\\n \\nholds\\n \\nthe\\n \\npayment\\n \\ninformation\\n \\n(PI)\\n \\nfor\\n \\nthe\\n \\nbank.\\n \\nThe\\n \\ncardholder\\n \\nthen\\n \\ncomputes\\n \\nseparate\\n \\nhash\\n \\nvalues\\n \\nfor\\n \\neach,\\n \\nconcatenates\\n \\nthese\\n \\nhashes,\\n \\nand\\n \\nencrypts\\n \\nthe\\n \\nresult\\n \\nwith\\n \\ntheir\\n \\nprivate\\n \\nkey.\\n \\n ○  Purpose:  This  mechanism  allows  the  merchant  to  verify  the  integrity  and  \\nauthenticity\\n \\nof\\n \\nthe\\n \\norder\\n \\nwithout\\n \\naccessing\\n \\nsensitive\\n \\npayment\\n \\ndetails,\\n \\nwhile\\n \\nthe\\n \\nbank\\n \\ncan\\n \\nvalidate\\n \\nthe\\n \\npayment\\n \\ninformation\\n \\nindependently.\\n  ●  Encryption  Techniques:  \\n \\nSET\\n \\nuses\\n \\na\\n \\ncombination\\n \\nof\\n \\nsymmetric\\n \\nand\\n \\nasymmetric\\n \\nencryption:\\n \\n ○  Asymmetric  Encryption:  Public  and  private  key  pairs  (commonly  RSA)  are  \\nused\\n \\nto\\n \\nexchange\\n \\nsession\\n \\nkeys\\n \\nsecurely.\\n \\n ○  Symmetric  Encryption:  Algorithms  like  DES  (though  now  considered  outdated)  \\nwere\\n \\noriginally\\n \\nused\\n \\nfor\\n \\nencrypting\\n \\nthe\\n \\nbulk\\n \\nof\\n \\nthe\\n \\ntransaction\\n \\ndata\\n \\ndue\\n \\nto\\n \\ntheir\\n \\nspeed.\\n \\n \\n \\n \\nHow  SET  Works:  A  Step-by-Step  Overview  \\n1.  Registration  and  Certificate  Exchange:  \\n \\nBoth\\n \\nthe\\n \\ncardholder\\n \\nand\\n \\nthe\\n \\nmerchant\\n \\nmust\\n \\nregister\\n \\nwith\\n \\na\\n \\ntrusted\\n \\nCertificate\\n \\nAuthority'),\n",
              " Document(metadata={'producer': 'Skia/PDF m136 Google Docs Renderer', 'creator': 'PyPDF', 'creationdate': '', 'title': 'SET- Secure Electronic Transaction', 'source': '/content/SET- Secure Electronic Transaction.pdf', 'total_pages': 7, 'page': 1, 'page_label': '2'}, page_content='(CA)  to  obtain  their  digital  certificates.  This  setup  step  is  crucial  for  establishing  trust  and  \\nensuring\\n \\nsecure\\n \\nkey\\n \\nexchanges.\\n \\n 2.  Initiation  of  Transaction:  \\n \\nWhen\\n \\na\\n \\npurchase\\n \\nis\\n \\ninitiated,\\n \\nthe\\n \\ncustomer’s\\n \\ndigital\\n \\nwallet\\n \\n(a\\n \\nsecure\\n \\nsoftware\\n \\ncontainer)\\n \\nis\\n \\nused\\n \\nto\\n \\nmanage\\n \\ntheir\\n \\ncertificates\\n \\nand\\n \\nkeys.\\n \\n 3.  Data  Separation  and  Dual  Signature  Creation:  \\n ○  Order  Information  (OI):  Contains  details  of  the  items  to  be  purchased  and  is  \\nsent\\n \\nto\\n \\nthe\\n \\nmerchant.\\n \\n ○  Payment  Information  (PI):  Contains  sensitive  payment  details  and  is  intended  \\nfor\\n \\nthe\\n \\nbank\\n \\nonly.\\n \\n \\nThe\\n \\ncardholder\\n \\ncomputes\\n \\nindividual\\n \\nmessage\\n \\ndigests\\n \\n(hashes)\\n \\nfor\\n \\nOI\\n \\nand\\n \\nPI,\\n \\nconcatenates\\n \\nthem,\\n \\nand\\n \\nthen\\n \\ncreates\\n \\na\\n \\ndual\\n \\nsignature\\n \\nby\\n \\nencrypting\\n \\nthe\\n \\nresulting\\n \\nhash\\n \\nwith\\n \\ntheir\\n \\nprivate\\n \\nkey.\\n \\n 4.  Secure  Transmission:  \\n ○  The  merchant  receives  the  order  details  along  with  the  dual  signature  and  the  \\nhash\\n \\nof\\n \\nthe\\n \\npayment\\n \\ndata—but\\n \\nnot\\n \\nthe\\n \\npayment\\n \\ninformation\\n \\nitself.\\n \\n ○  The  bank  receives  the  payment  information  and  the  dual  signature,  enabling  it  to  \\nverify\\n \\nthat\\n \\nthe\\n \\npayment\\n \\ndetails\\n \\nare\\n \\ncorrect\\n \\nwithout\\n \\nseeing\\n \\nthe\\n \\norder\\n \\ndetails.\\n \\n 5.  Authentication,  Authorization,  and  Confirmation:  \\n ○  The  merchant  verifies  the  customer’s  certificate  and  signature,  ensuring  that  the  \\norder\\n \\nhasn’t\\n \\nbeen\\n \\ntampered\\n \\nwith.\\n \\n ○  The  payment  gateway  processes  the  encrypted  payment  information  with  the  \\nbank’s\\n \\nauthorization.\\n \\n ○  Once  the  bank  confirms  that  sufficient  funds  are  available  and  the  transaction  is  \\nlegitimate,\\n \\nthe\\n \\nmerchant\\n \\nis\\n \\nnotified\\n \\nto\\n \\ncomplete\\n \\nthe\\n \\norder.\\n \\n \\n \\nBenefits  and  Limitations  \\nBenefits:  \\n●  Enhanced  Security:  By  using  dual  signatures  and  encryption,  SET  ensures  that  \\nsensitive\\n \\npayment\\n \\ndata\\n \\nremains\\n \\nconfidential\\n \\nand\\n \\nthat\\n \\nall\\n \\nparties\\n \\nare\\n \\nproperly\\n \\nauthenticated.\\n \\n ●  Non-repudiation:  Digital  signatures  provide  an  auditable  trail,  meaning  that  parties  \\ncannot\\n \\nlater\\n \\ndeny\\n \\nhaving\\n \\nparticipated\\n \\nin\\n \\nthe\\n \\ntransaction.'),\n",
              " Document(metadata={'producer': 'Skia/PDF m136 Google Docs Renderer', 'creator': 'PyPDF', 'creationdate': '', 'title': 'SET- Secure Electronic Transaction', 'source': '/content/SET- Secure Electronic Transaction.pdf', 'total_pages': 7, 'page': 2, 'page_label': '3'}, page_content='●  Data  Integrity:  Cryptographic  checks  ensure  that  neither  order  nor  payment  data  is  \\naltered\\n \\nduring\\n \\ntransmission.\\n \\n \\nLimitations:  \\n●  Complexity:  The  protocol  requires  substantial  infrastructure  (like  a  complete  PKI  setup  \\nand\\n \\nclient-side\\n \\nsoftware)\\n \\nwhich\\n \\nhas\\n \\nlimited\\n \\nits\\n \\nwidespread\\n \\nadoption.\\n \\n ●  Implementation  Costs:  For  both  merchants  and  financial  institutions,  integrating  SET  \\ncan\\n \\nbe\\n \\nresource-intensive\\n \\ncompared\\n \\nto\\n \\nsimpler\\n \\nprotocols\\n \\nlike\\n \\nSSL/TLS.\\n \\n ●  Evolving  Alternatives:  Despite  its  robust  design,  SET  was  largely  superseded  by  \\nprotocols\\n \\nsuch\\n \\nas\\n \\n3-D\\n \\nSecure,\\n \\nwhich\\n \\noffer\\n \\nsimilar\\n \\nsecurity\\n \\nwith\\n \\nimproved\\n \\nusability.\\n \\n \\n \\nEXPORTABILITY  \\nExportability  in  cryptography  refers  to  the  legal  and  technical  constraints  imposed  on  the  \\ndistribution\\n \\nof\\n \\ncryptographic\\n \\ntechnologies\\n \\nacross\\n \\nnational\\n \\nborders.\\n \\nGovernments\\n \\nregulate\\n \\nencryption\\n \\nsoftware,\\n \\nhardware,\\n \\nand\\n \\nintellectual\\n \\nproperty\\n \\nto\\n \\nprevent\\n \\nmisuse\\n \\nby\\n \\nadversaries,\\n \\nprotect\\n \\nnational\\n \\nsecurity,\\n \\nand\\n \\ncomply\\n \\nwith\\n \\ninternational\\n \\nagreements.\\n  \\nKey  Aspects  of  Exportability  in  Cryptography  \\n1.  Government  Regulations:  \\n ○  Some  countries,  like  the  United  States,  have  strict  export  controls  on  strong  \\nencryption\\n \\ntechnologies\\n \\nthrough\\n \\nlaws\\n \\nsuch\\n \\nas\\n \\nthe\\n \\nExport\\n \\nAdministration\\n \\nRegulations\\n \\n(EAR)\\n \\nand\\n \\nInternational\\n \\nTraffic\\n \\nin\\n \\nArms\\n \\nRegulations\\n \\n(ITAR)\\n.\\n \\n ○  The  Wassenaar  Arrangement  is  an  international  agreement  that  sets  guidelines  \\nfor\\n \\nexporting\\n \\ncryptographic\\n \\ntechnologies\\n \\namong\\n \\nparticipating\\n \\ncountries.\\n \\n 2.  Strength  of  Encryption:  \\n ○  Governments  may  limit  the  export  of  cryptographic  systems  based  on  key  length  \\nand\\n \\nencryption\\n \\nstrength.\\n \\n ○  For  example,  in  the  past,  U.S.  laws  restricted  software  exports  to  40-bit  \\nencryption\\n \\nkeys\\n,\\n \\nwhile\\n \\ndomestic\\n \\nversions\\n \\nhad\\n \\n128-bit\\n \\nkeys\\n.\\n \\n 3.  Commercial  vs.  Military  Use:  \\n ○  Cryptographic  systems  for  commercial  use  (e.g.,  SSL/TLS  for  web  security)  \\noften\\n \\nhave\\n \\nfewer\\n \\nrestrictions\\n \\nthan\\n \\nthose\\n \\nused\\n \\nfor\\n \\nmilitary\\n \\nor\\n \\ngovernment'),\n",
              " Document(metadata={'producer': 'Skia/PDF m136 Google Docs Renderer', 'creator': 'PyPDF', 'creationdate': '', 'title': 'SET- Secure Electronic Transaction', 'source': '/content/SET- Secure Electronic Transaction.pdf', 'total_pages': 7, 'page': 3, 'page_label': '4'}, page_content='purposes.  \\n ○  Some  encryption  algorithms,  such  as  AES-256 ,  are  restricted  in  certain  regions  \\nfor\\n \\nnational\\n \\nsecurity\\n \\nreasons.\\n \\n 4.  Open-Source  Cryptography:  \\n ○  Some  open-source  cryptographic  tools  (e.g.,  OpenSSL,  GnuPG)  are  widely  \\navailable,\\n \\nbut\\n \\ntheir\\n \\ndistribution\\n \\nmay\\n \\nbe\\n \\nsubject\\n \\nto\\n \\nexport\\n \\nlaws.\\n \\n ○  Developers  may  need  licenses  or  approvals  before  sharing  cryptographic  code  \\ninternationally.\\n \\n 5.  Backdoors  and  Compliance:  \\n ○  Some  governments  require  cryptographic  tools  to  include  backdoors  or  lawful  \\naccess\\n \\nmechanisms\\n \\nto\\n \\nfacilitate\\n \\nsurveillance\\n \\nand\\n \\nnational\\n \\nsecurity\\n \\ninvestigations.\\n \\n ○  Companies  exporting  encryption  technologies  may  need  to  comply  with  these  \\nrequirements.\\n \\n \\n Future  of  Cryptographic  Exportability  \\n1.  Post-Quantum  Cryptography  (PQC)  Controls  \\n ○  Governments  are  developing  regulations  for  quantum-resistant  encryption  \\n(e.g.,\\n \\nNIST\\n \\nPQC\\n \\nstandards).\\n \\n ○  Some  quantum  encryption  methods  may  be  restricted  under  new  laws.  \\n 2.  Decentralization  &  Open-Source  Encryption  \\n ○  Open-source  projects  (e.g.,  OpenSSL,  GnuPG)  allow  anyone  to  access  \\nencryption\\n \\ntools.\\n \\n ○  Governments  struggle  to  regulate  decentralized  encryption  solutions  like  Tor  and  \\nBitcoin\\n.\\n \\n 3.  AI  and  Cryptography  \\n ○  AI-driven  encryption  techniques  are  being  developed,  raising  concerns  about  \\nnew\\n \\nexport\\n \\ncontrol\\n \\nlaws.'),\n",
              " Document(metadata={'producer': 'Skia/PDF m136 Google Docs Renderer', 'creator': 'PyPDF', 'creationdate': '', 'title': 'SET- Secure Electronic Transaction', 'source': '/content/SET- Secure Electronic Transaction.pdf', 'total_pages': 7, 'page': 4, 'page_label': '5'}, page_content='Encoding  \\nEncoding  in  cryptography  is  a  process  of  transforming  data  into  a  different  format  using  a  \\npredefined\\n \\nscheme\\n \\nso\\n \\nthat\\n \\nit\\n \\ncan\\n \\nbe\\n \\nsafely\\n \\ntransmitted\\n \\nor\\n \\nstored.\\n \\nUnlike\\n \\nencryption,\\n \\nencoding\\n \\nis\\n \\nnot\\n \\nmeant\\n \\nto\\n \\nprovide\\n \\nsecurity\\n—it\\n \\nis\\n \\ndesigned\\n \\nto\\n \\nensure\\n \\nthat\\n \\ndata\\n \\nremains\\n \\nintact\\n \\nand\\n \\nreadable\\n \\nwhen\\n \\nit\\n \\nis\\n \\nprocessed\\n \\nby\\n \\ndifferent\\n \\nsystems.\\n \\nEncoding  is  reversible  and  does  not  require  a  secret  key.  It  is  used  mainly  for  data  \\nrepresentation,\\n \\ntransmission,\\n \\nand\\n \\nstorage\\n \\nrather\\n \\nthan\\n \\nsecurity.\\n \\nHow  Encoding  Works?  \\nEncoding  works  by  applying  a  set  of  rules  that  map  original  data  into  a  new  representation.  The  \\nprocess\\n \\ninvolves\\n \\nconverting\\n \\ncharacters,\\n \\nnumbers,\\n \\nor\\n \\nbinary\\n \\ndata\\n \\ninto\\n \\na\\n \\nformat\\n \\nthat\\n \\ncan\\n \\nbe\\n \\neasily\\n \\nprocessed,\\n \\nstored,\\n \\nor\\n \\ntransmitted.\\n \\nSteps  in  Encoding  Process:  \\n1.  Input  Data  →  Take  raw  data  (text,  binary,  etc.).  \\n 2.  Encoding  Algorithm  →  Apply  a  predefined  set  of  rules  to  transform  the  data.  \\n 3.  Encoded  Output  →  Generate  an  encoded  version  of  the  data  that  can  be  used  for  \\ntransmission\\n \\nor\\n \\nstorage.\\n \\n 4.  Decoding  →  The  recipient  applies  the  reverse  process  to  retrieve  the  original  data.  \\n \\nTypes  of  Encoding  in  Cryptography  \\nEncoding  is  widely  used  in  cryptography  for  data  representation  and  transmission .  Some  \\ncommon\\n \\nencoding\\n \\nmethods\\n \\ninclude:\\n \\n1.  Base  Encoding  (Base64,  Base32,  Base16)  \\n●  Converts  binary  data  into  a  text  format  using  only  printable  characters .  \\n ●  Commonly  used  for  encoding  binary  files  (images,  certificates,  cryptographic  keys)  \\ninto\\n \\ntext\\n.\\n \\n ●  Base64  Example:  \\n ○  Original  Data:  Hello'),\n",
              " Document(metadata={'producer': 'Skia/PDF m136 Google Docs Renderer', 'creator': 'PyPDF', 'creationdate': '', 'title': 'SET- Secure Electronic Transaction', 'source': '/content/SET- Secure Electronic Transaction.pdf', 'total_pages': 7, 'page': 5, 'page_label': '6'}, page_content='○  Base64  Encoded:  SGVsbG8=  \\n ●  Used  in:  \\n ○  Email  attachments  (MIME  encoding).  \\n ○  Embedding  images  in  HTML/CSS.  \\n ○  Encoding  cryptographic  keys  (e.g.,  PEM  format  in  SSL  certificates).  \\n \\n2.  ASCII  and  Unicode  Encoding  \\n●  Converts  characters  into  numerical  values  so  that  computers  can  understand  them.  \\n ●  ASCII  (7-bit) :  Encodes  English  characters.  \\n ●  Unicode  (UTF-8,  UTF-16,  UTF-32) :  Supports  multiple  languages  and  symbols.  \\n ●  Used  in:  \\n ○  Password  hashing  where  characters  need  consistent  encoding.  \\n ○  Cryptographic  protocols  like  PGP  (Pretty  Good  Privacy).  \\n \\n3.  URL  Encoding  (Percent-Encoding)  \\n●  Converts  special  characters  in  URLs  into  a  safe  format .  \\n ●  Example:  \\n ○  Original  URL:  https://example.com/query?name=John  Doe  \\n ○  Encoded  URL:  https://example.com/query?name=John%20Doe  \\n ●  Used  in:  \\n ○  Secure  transmission  of  parameters  in  web  requests.  \\n ○  Encoding  sensitive  data  in  GET/POST  requests.  \\n \\n4.  Hexadecimal  Encoding  \\n●  Converts  binary  data  into  a  hexadecimal  format  (base-16).  \\n ●  Example:'),\n",
              " Document(metadata={'producer': 'Skia/PDF m136 Google Docs Renderer', 'creator': 'PyPDF', 'creationdate': '', 'title': 'SET- Secure Electronic Transaction', 'source': '/content/SET- Secure Electronic Transaction.pdf', 'total_pages': 7, 'page': 6, 'page_label': '7'}, page_content='○  Original  Data  (Binary):  11001010  \\n ○  Hex  Encoded:  CA  \\n ●  Used  in:  \\n ○  Cryptographic  hash  representations  (e.g.,  SHA-256  outputs).  \\n ○  Representing  encrypted  data.  \\n \\n5.  Percent-Encoding  \\n●  Used  in  URLs  and  some  cryptographic  algorithms  to  escape  special  characters.  \\n ●  Example:  \\n ○  Original:  Hello  World!  \\n ○  Encoded:  Hello%20World%21  \\n ●  Used  in:  \\n ○  Encoding  sensitive  data  in  URLs  and  HTTP  requests.  \\n ○  Avoiding  character  misinterpretation  in  different  systems.')]"
            ]
          },
          "metadata": {},
          "execution_count": 5
        }
      ]
    },
    {
      "cell_type": "code",
      "source": [
        "GEMINI_API_KEY=\"AIzaSyBYgqT3Q274\"  #Give your LLM model API key"
      ],
      "metadata": {
        "id": "HVN75YkPFzGM"
      },
      "execution_count": 6,
      "outputs": []
    },
    {
      "cell_type": "code",
      "source": [
        "#Splitting or Chunking the text\n",
        "\n",
        "from langchain.text_splitter import RecursiveCharacterTextSplitter\n",
        "text_splitter=RecursiveCharacterTextSplitter(chunk_size=1000,chunk_overlap=200)\n",
        "documents=text_splitter.split_documents(pdf_documents)\n",
        "documents[:5]"
      ],
      "metadata": {
        "colab": {
          "base_uri": "https://localhost:8080/"
        },
        "collapsed": true,
        "id": "F5HsLVtrJoMn",
        "outputId": "89ec6779-d763-4a2d-dc1e-c01031d6b867"
      },
      "execution_count": 7,
      "outputs": [
        {
          "output_type": "execute_result",
          "data": {
            "text/plain": [
              "[Document(metadata={'producer': 'Skia/PDF m136 Google Docs Renderer', 'creator': 'PyPDF', 'creationdate': '', 'title': 'SET- Secure Electronic Transaction', 'source': '/content/SET- Secure Electronic Transaction.pdf', 'total_pages': 7, 'page': 0, 'page_label': '1'}, page_content='SET-Secure  Electronic  Transaction  \\n \\nSecure  Electronic  Transaction  (SET)  is  much  more  than  a  simple  encryption  method—it’s  an  \\nentire\\n \\nprotocol\\n \\ndesigned\\n \\nin\\n \\nthe\\n \\nmid\\n‑\\n1990s\\n \\nby\\n \\na\\n \\nconsortium\\n \\nincluding\\n \\nVisa,\\n \\nMasterCard,\\n \\nIBM,\\n \\nMicrosoft,\\n \\nNetscape,\\n \\nand\\n \\nothers\\n \\nto\\n \\nsecure\\n \\nonline\\n \\ncredit\\n \\nand\\n \\ndebit\\n \\ncard\\n \\ntransactions.\\n \\nLet’s\\n \\nbreak\\n \\ndown\\n \\nits\\n \\nkey\\n \\naspects\\n \\nin\\n \\nmore\\n \\ndetail:\\n \\nCore  Concepts  and  Components  \\n●  Public  Key  Infrastructure  (PKI)  and  Digital  Certificates:  \\n \\nSET\\n \\nleverages\\n \\na\\n \\nPKI\\n \\nframework\\n \\nto\\n \\nissue\\n \\nand\\n \\nvalidate\\n \\nX.509\\n \\ndigital\\n \\ncertificates.\\n \\nThese\\n \\ncertificates\\n \\nserve\\n \\nas\\n \\nelectronic\\n \\nIDs\\n \\nfor\\n \\nall\\n \\nparties—cardholder,\\n \\nmerchant,\\n \\nissuer,\\n \\nand\\n \\nacquirer—ensuring\\n \\nthat\\n \\neach\\n \\nparticipant\\n \\nis\\n \\nauthenticated\\n \\nbefore\\n \\na\\n \\ntransaction\\n \\nis\\n processed.  ●  Dual  Signatures:  \\n \\nOne\\n \\nof\\n \\nthe\\n \\nhallmark\\n \\nfeatures\\n \\nof\\n \\nSET\\n \\nis\\n \\nthe\\n \\nuse\\n \\nof\\n \\ndual\\n \\nsignatures.\\n \\nIn\\n \\na'),\n",
              " Document(metadata={'producer': 'Skia/PDF m136 Google Docs Renderer', 'creator': 'PyPDF', 'creationdate': '', 'title': 'SET- Secure Electronic Transaction', 'source': '/content/SET- Secure Electronic Transaction.pdf', 'total_pages': 7, 'page': 0, 'page_label': '1'}, page_content='is\\n \\nauthenticated\\n \\nbefore\\n \\na\\n \\ntransaction\\n \\nis\\n processed.  ●  Dual  Signatures:  \\n \\nOne\\n \\nof\\n \\nthe\\n \\nhallmark\\n \\nfeatures\\n \\nof\\n \\nSET\\n \\nis\\n \\nthe\\n \\nuse\\n \\nof\\n \\ndual\\n \\nsignatures.\\n \\nIn\\n \\na\\n \\ntransaction,\\n \\nthe\\n \\ncardholder\\n \\ncreates\\n \\ntwo\\n \\nseparate\\n \\ndata\\n \\nstreams:\\n \\none\\n \\ncontains\\n \\nthe\\n \\norder\\n \\ninformation\\n \\n(OI)\\n \\nfor\\n \\nthe\\n \\nmerchant,\\n \\nand\\n \\nthe\\n \\nother\\n \\nholds\\n \\nthe\\n \\npayment\\n \\ninformation\\n \\n(PI)\\n \\nfor\\n \\nthe\\n \\nbank.\\n \\nThe\\n \\ncardholder\\n \\nthen\\n \\ncomputes\\n \\nseparate\\n \\nhash\\n \\nvalues\\n \\nfor\\n \\neach,\\n \\nconcatenates\\n \\nthese\\n \\nhashes,\\n \\nand\\n \\nencrypts\\n \\nthe\\n \\nresult\\n \\nwith\\n \\ntheir\\n \\nprivate\\n \\nkey.\\n \\n ○  Purpose:  This  mechanism  allows  the  merchant  to  verify  the  integrity  and  \\nauthenticity\\n \\nof\\n \\nthe\\n \\norder\\n \\nwithout\\n \\naccessing\\n \\nsensitive\\n \\npayment\\n \\ndetails,\\n \\nwhile\\n \\nthe\\n \\nbank\\n \\ncan\\n \\nvalidate\\n \\nthe\\n \\npayment\\n \\ninformation\\n \\nindependently.\\n  ●  Encryption  Techniques:  \\n \\nSET\\n \\nuses\\n \\na\\n \\ncombination\\n \\nof\\n \\nsymmetric\\n \\nand\\n \\nasymmetric\\n \\nencryption:'),\n",
              " Document(metadata={'producer': 'Skia/PDF m136 Google Docs Renderer', 'creator': 'PyPDF', 'creationdate': '', 'title': 'SET- Secure Electronic Transaction', 'source': '/content/SET- Secure Electronic Transaction.pdf', 'total_pages': 7, 'page': 0, 'page_label': '1'}, page_content='while\\n \\nthe\\n \\nbank\\n \\ncan\\n \\nvalidate\\n \\nthe\\n \\npayment\\n \\ninformation\\n \\nindependently.\\n  ●  Encryption  Techniques:  \\n \\nSET\\n \\nuses\\n \\na\\n \\ncombination\\n \\nof\\n \\nsymmetric\\n \\nand\\n \\nasymmetric\\n \\nencryption:\\n \\n ○  Asymmetric  Encryption:  Public  and  private  key  pairs  (commonly  RSA)  are  \\nused\\n \\nto\\n \\nexchange\\n \\nsession\\n \\nkeys\\n \\nsecurely.\\n \\n ○  Symmetric  Encryption:  Algorithms  like  DES  (though  now  considered  outdated)  \\nwere\\n \\noriginally\\n \\nused\\n \\nfor\\n \\nencrypting\\n \\nthe\\n \\nbulk\\n \\nof\\n \\nthe\\n \\ntransaction\\n \\ndata\\n \\ndue\\n \\nto\\n \\ntheir\\n \\nspeed.\\n \\n \\n \\n \\nHow  SET  Works:  A  Step-by-Step  Overview  \\n1.  Registration  and  Certificate  Exchange:  \\n \\nBoth\\n \\nthe\\n \\ncardholder\\n \\nand\\n \\nthe\\n \\nmerchant\\n \\nmust\\n \\nregister\\n \\nwith\\n \\na\\n \\ntrusted\\n \\nCertificate\\n \\nAuthority'),\n",
              " Document(metadata={'producer': 'Skia/PDF m136 Google Docs Renderer', 'creator': 'PyPDF', 'creationdate': '', 'title': 'SET- Secure Electronic Transaction', 'source': '/content/SET- Secure Electronic Transaction.pdf', 'total_pages': 7, 'page': 1, 'page_label': '2'}, page_content='(CA)  to  obtain  their  digital  certificates.  This  setup  step  is  crucial  for  establishing  trust  and  \\nensuring\\n \\nsecure\\n \\nkey\\n \\nexchanges.\\n \\n 2.  Initiation  of  Transaction:  \\n \\nWhen\\n \\na\\n \\npurchase\\n \\nis\\n \\ninitiated,\\n \\nthe\\n \\ncustomer’s\\n \\ndigital\\n \\nwallet\\n \\n(a\\n \\nsecure\\n \\nsoftware\\n \\ncontainer)\\n \\nis\\n \\nused\\n \\nto\\n \\nmanage\\n \\ntheir\\n \\ncertificates\\n \\nand\\n \\nkeys.\\n \\n 3.  Data  Separation  and  Dual  Signature  Creation:  \\n ○  Order  Information  (OI):  Contains  details  of  the  items  to  be  purchased  and  is  \\nsent\\n \\nto\\n \\nthe\\n \\nmerchant.\\n \\n ○  Payment  Information  (PI):  Contains  sensitive  payment  details  and  is  intended  \\nfor\\n \\nthe\\n \\nbank\\n \\nonly.\\n \\n \\nThe\\n \\ncardholder\\n \\ncomputes\\n \\nindividual\\n \\nmessage\\n \\ndigests\\n \\n(hashes)\\n \\nfor\\n \\nOI\\n \\nand\\n \\nPI,\\n \\nconcatenates\\n \\nthem,\\n \\nand\\n \\nthen\\n \\ncreates\\n \\na\\n \\ndual\\n \\nsignature\\n \\nby\\n \\nencrypting\\n \\nthe\\n \\nresulting\\n \\nhash\\n \\nwith\\n \\ntheir\\n \\nprivate\\n \\nkey.\\n \\n 4.  Secure  Transmission:'),\n",
              " Document(metadata={'producer': 'Skia/PDF m136 Google Docs Renderer', 'creator': 'PyPDF', 'creationdate': '', 'title': 'SET- Secure Electronic Transaction', 'source': '/content/SET- Secure Electronic Transaction.pdf', 'total_pages': 7, 'page': 1, 'page_label': '2'}, page_content='for\\n \\nOI\\n \\nand\\n \\nPI,\\n \\nconcatenates\\n \\nthem,\\n \\nand\\n \\nthen\\n \\ncreates\\n \\na\\n \\ndual\\n \\nsignature\\n \\nby\\n \\nencrypting\\n \\nthe\\n \\nresulting\\n \\nhash\\n \\nwith\\n \\ntheir\\n \\nprivate\\n \\nkey.\\n \\n 4.  Secure  Transmission:  \\n ○  The  merchant  receives  the  order  details  along  with  the  dual  signature  and  the  \\nhash\\n \\nof\\n \\nthe\\n \\npayment\\n \\ndata—but\\n \\nnot\\n \\nthe\\n \\npayment\\n \\ninformation\\n \\nitself.\\n \\n ○  The  bank  receives  the  payment  information  and  the  dual  signature,  enabling  it  to  \\nverify\\n \\nthat\\n \\nthe\\n \\npayment\\n \\ndetails\\n \\nare\\n \\ncorrect\\n \\nwithout\\n \\nseeing\\n \\nthe\\n \\norder\\n \\ndetails.\\n \\n 5.  Authentication,  Authorization,  and  Confirmation:  \\n ○  The  merchant  verifies  the  customer’s  certificate  and  signature,  ensuring  that  the  \\norder\\n \\nhasn’t\\n \\nbeen\\n \\ntampered\\n \\nwith.\\n \\n ○  The  payment  gateway  processes  the  encrypted  payment  information  with  the  \\nbank’s\\n \\nauthorization.\\n \\n ○  Once  the  bank  confirms  that  sufficient  funds  are  available  and  the  transaction  is')]"
            ]
          },
          "metadata": {},
          "execution_count": 7
        }
      ]
    },
    {
      "cell_type": "code",
      "source": [
        "!pip install  langchain_google_genai"
      ],
      "metadata": {
        "colab": {
          "base_uri": "https://localhost:8080/"
        },
        "collapsed": true,
        "id": "cEs6Cm-5K2N-",
        "outputId": "d4f512b4-5a52-49f3-e166-c42ec83bff3a"
      },
      "execution_count": 8,
      "outputs": [
        {
          "output_type": "stream",
          "name": "stdout",
          "text": [
            "Requirement already satisfied: langchain_google_genai in /usr/local/lib/python3.11/dist-packages (2.1.4)\n",
            "Requirement already satisfied: filetype<2.0.0,>=1.2.0 in /usr/local/lib/python3.11/dist-packages (from langchain_google_genai) (1.2.0)\n",
            "Requirement already satisfied: google-ai-generativelanguage<0.7.0,>=0.6.18 in /usr/local/lib/python3.11/dist-packages (from langchain_google_genai) (0.6.18)\n",
            "Requirement already satisfied: langchain-core<0.4.0,>=0.3.52 in /usr/local/lib/python3.11/dist-packages (from langchain_google_genai) (0.3.59)\n",
            "Requirement already satisfied: pydantic<3,>=2 in /usr/local/lib/python3.11/dist-packages (from langchain_google_genai) (2.11.4)\n",
            "Requirement already satisfied: google-api-core!=2.0.*,!=2.1.*,!=2.10.*,!=2.2.*,!=2.3.*,!=2.4.*,!=2.5.*,!=2.6.*,!=2.7.*,!=2.8.*,!=2.9.*,<3.0.0,>=1.34.1 in /usr/local/lib/python3.11/dist-packages (from google-api-core[grpc]!=2.0.*,!=2.1.*,!=2.10.*,!=2.2.*,!=2.3.*,!=2.4.*,!=2.5.*,!=2.6.*,!=2.7.*,!=2.8.*,!=2.9.*,<3.0.0,>=1.34.1->google-ai-generativelanguage<0.7.0,>=0.6.18->langchain_google_genai) (2.24.2)\n",
            "Requirement already satisfied: google-auth!=2.24.0,!=2.25.0,<3.0.0,>=2.14.1 in /usr/local/lib/python3.11/dist-packages (from google-ai-generativelanguage<0.7.0,>=0.6.18->langchain_google_genai) (2.38.0)\n",
            "Requirement already satisfied: proto-plus<2.0.0,>=1.22.3 in /usr/local/lib/python3.11/dist-packages (from google-ai-generativelanguage<0.7.0,>=0.6.18->langchain_google_genai) (1.26.1)\n",
            "Requirement already satisfied: protobuf!=4.21.0,!=4.21.1,!=4.21.2,!=4.21.3,!=4.21.4,!=4.21.5,<7.0.0,>=3.20.2 in /usr/local/lib/python3.11/dist-packages (from google-ai-generativelanguage<0.7.0,>=0.6.18->langchain_google_genai) (5.29.4)\n",
            "Requirement already satisfied: langsmith<0.4,>=0.1.125 in /usr/local/lib/python3.11/dist-packages (from langchain-core<0.4.0,>=0.3.52->langchain_google_genai) (0.3.42)\n",
            "Requirement already satisfied: tenacity!=8.4.0,<10.0.0,>=8.1.0 in /usr/local/lib/python3.11/dist-packages (from langchain-core<0.4.0,>=0.3.52->langchain_google_genai) (9.1.2)\n",
            "Requirement already satisfied: jsonpatch<2.0,>=1.33 in /usr/local/lib/python3.11/dist-packages (from langchain-core<0.4.0,>=0.3.52->langchain_google_genai) (1.33)\n",
            "Requirement already satisfied: PyYAML>=5.3 in /usr/local/lib/python3.11/dist-packages (from langchain-core<0.4.0,>=0.3.52->langchain_google_genai) (6.0.2)\n",
            "Requirement already satisfied: packaging<25,>=23.2 in /usr/local/lib/python3.11/dist-packages (from langchain-core<0.4.0,>=0.3.52->langchain_google_genai) (24.2)\n",
            "Requirement already satisfied: typing-extensions>=4.7 in /usr/local/lib/python3.11/dist-packages (from langchain-core<0.4.0,>=0.3.52->langchain_google_genai) (4.13.2)\n",
            "Requirement already satisfied: annotated-types>=0.6.0 in /usr/local/lib/python3.11/dist-packages (from pydantic<3,>=2->langchain_google_genai) (0.7.0)\n",
            "Requirement already satisfied: pydantic-core==2.33.2 in /usr/local/lib/python3.11/dist-packages (from pydantic<3,>=2->langchain_google_genai) (2.33.2)\n",
            "Requirement already satisfied: typing-inspection>=0.4.0 in /usr/local/lib/python3.11/dist-packages (from pydantic<3,>=2->langchain_google_genai) (0.4.0)\n",
            "Requirement already satisfied: googleapis-common-protos<2.0.0,>=1.56.2 in /usr/local/lib/python3.11/dist-packages (from google-api-core!=2.0.*,!=2.1.*,!=2.10.*,!=2.2.*,!=2.3.*,!=2.4.*,!=2.5.*,!=2.6.*,!=2.7.*,!=2.8.*,!=2.9.*,<3.0.0,>=1.34.1->google-api-core[grpc]!=2.0.*,!=2.1.*,!=2.10.*,!=2.2.*,!=2.3.*,!=2.4.*,!=2.5.*,!=2.6.*,!=2.7.*,!=2.8.*,!=2.9.*,<3.0.0,>=1.34.1->google-ai-generativelanguage<0.7.0,>=0.6.18->langchain_google_genai) (1.70.0)\n",
            "Requirement already satisfied: requests<3.0.0,>=2.18.0 in /usr/local/lib/python3.11/dist-packages (from google-api-core!=2.0.*,!=2.1.*,!=2.10.*,!=2.2.*,!=2.3.*,!=2.4.*,!=2.5.*,!=2.6.*,!=2.7.*,!=2.8.*,!=2.9.*,<3.0.0,>=1.34.1->google-api-core[grpc]!=2.0.*,!=2.1.*,!=2.10.*,!=2.2.*,!=2.3.*,!=2.4.*,!=2.5.*,!=2.6.*,!=2.7.*,!=2.8.*,!=2.9.*,<3.0.0,>=1.34.1->google-ai-generativelanguage<0.7.0,>=0.6.18->langchain_google_genai) (2.32.3)\n",
            "Requirement already satisfied: grpcio<2.0dev,>=1.33.2 in /usr/local/lib/python3.11/dist-packages (from google-api-core[grpc]!=2.0.*,!=2.1.*,!=2.10.*,!=2.2.*,!=2.3.*,!=2.4.*,!=2.5.*,!=2.6.*,!=2.7.*,!=2.8.*,!=2.9.*,<3.0.0,>=1.34.1->google-ai-generativelanguage<0.7.0,>=0.6.18->langchain_google_genai) (1.71.0)\n",
            "Requirement already satisfied: grpcio-status<2.0.dev0,>=1.33.2 in /usr/local/lib/python3.11/dist-packages (from google-api-core[grpc]!=2.0.*,!=2.1.*,!=2.10.*,!=2.2.*,!=2.3.*,!=2.4.*,!=2.5.*,!=2.6.*,!=2.7.*,!=2.8.*,!=2.9.*,<3.0.0,>=1.34.1->google-ai-generativelanguage<0.7.0,>=0.6.18->langchain_google_genai) (1.71.0)\n",
            "Requirement already satisfied: cachetools<6.0,>=2.0.0 in /usr/local/lib/python3.11/dist-packages (from google-auth!=2.24.0,!=2.25.0,<3.0.0,>=2.14.1->google-ai-generativelanguage<0.7.0,>=0.6.18->langchain_google_genai) (5.5.2)\n",
            "Requirement already satisfied: pyasn1-modules>=0.2.1 in /usr/local/lib/python3.11/dist-packages (from google-auth!=2.24.0,!=2.25.0,<3.0.0,>=2.14.1->google-ai-generativelanguage<0.7.0,>=0.6.18->langchain_google_genai) (0.4.2)\n",
            "Requirement already satisfied: rsa<5,>=3.1.4 in /usr/local/lib/python3.11/dist-packages (from google-auth!=2.24.0,!=2.25.0,<3.0.0,>=2.14.1->google-ai-generativelanguage<0.7.0,>=0.6.18->langchain_google_genai) (4.9.1)\n",
            "Requirement already satisfied: jsonpointer>=1.9 in /usr/local/lib/python3.11/dist-packages (from jsonpatch<2.0,>=1.33->langchain-core<0.4.0,>=0.3.52->langchain_google_genai) (3.0.0)\n",
            "Requirement already satisfied: httpx<1,>=0.23.0 in /usr/local/lib/python3.11/dist-packages (from langsmith<0.4,>=0.1.125->langchain-core<0.4.0,>=0.3.52->langchain_google_genai) (0.28.1)\n",
            "Requirement already satisfied: orjson<4.0.0,>=3.9.14 in /usr/local/lib/python3.11/dist-packages (from langsmith<0.4,>=0.1.125->langchain-core<0.4.0,>=0.3.52->langchain_google_genai) (3.10.18)\n",
            "Requirement already satisfied: requests-toolbelt<2.0.0,>=1.0.0 in /usr/local/lib/python3.11/dist-packages (from langsmith<0.4,>=0.1.125->langchain-core<0.4.0,>=0.3.52->langchain_google_genai) (1.0.0)\n",
            "Requirement already satisfied: zstandard<0.24.0,>=0.23.0 in /usr/local/lib/python3.11/dist-packages (from langsmith<0.4,>=0.1.125->langchain-core<0.4.0,>=0.3.52->langchain_google_genai) (0.23.0)\n",
            "Requirement already satisfied: anyio in /usr/local/lib/python3.11/dist-packages (from httpx<1,>=0.23.0->langsmith<0.4,>=0.1.125->langchain-core<0.4.0,>=0.3.52->langchain_google_genai) (4.9.0)\n",
            "Requirement already satisfied: certifi in /usr/local/lib/python3.11/dist-packages (from httpx<1,>=0.23.0->langsmith<0.4,>=0.1.125->langchain-core<0.4.0,>=0.3.52->langchain_google_genai) (2025.4.26)\n",
            "Requirement already satisfied: httpcore==1.* in /usr/local/lib/python3.11/dist-packages (from httpx<1,>=0.23.0->langsmith<0.4,>=0.1.125->langchain-core<0.4.0,>=0.3.52->langchain_google_genai) (1.0.9)\n",
            "Requirement already satisfied: idna in /usr/local/lib/python3.11/dist-packages (from httpx<1,>=0.23.0->langsmith<0.4,>=0.1.125->langchain-core<0.4.0,>=0.3.52->langchain_google_genai) (3.10)\n",
            "Requirement already satisfied: h11>=0.16 in /usr/local/lib/python3.11/dist-packages (from httpcore==1.*->httpx<1,>=0.23.0->langsmith<0.4,>=0.1.125->langchain-core<0.4.0,>=0.3.52->langchain_google_genai) (0.16.0)\n",
            "Requirement already satisfied: pyasn1<0.7.0,>=0.6.1 in /usr/local/lib/python3.11/dist-packages (from pyasn1-modules>=0.2.1->google-auth!=2.24.0,!=2.25.0,<3.0.0,>=2.14.1->google-ai-generativelanguage<0.7.0,>=0.6.18->langchain_google_genai) (0.6.1)\n",
            "Requirement already satisfied: charset-normalizer<4,>=2 in /usr/local/lib/python3.11/dist-packages (from requests<3.0.0,>=2.18.0->google-api-core!=2.0.*,!=2.1.*,!=2.10.*,!=2.2.*,!=2.3.*,!=2.4.*,!=2.5.*,!=2.6.*,!=2.7.*,!=2.8.*,!=2.9.*,<3.0.0,>=1.34.1->google-api-core[grpc]!=2.0.*,!=2.1.*,!=2.10.*,!=2.2.*,!=2.3.*,!=2.4.*,!=2.5.*,!=2.6.*,!=2.7.*,!=2.8.*,!=2.9.*,<3.0.0,>=1.34.1->google-ai-generativelanguage<0.7.0,>=0.6.18->langchain_google_genai) (3.4.2)\n",
            "Requirement already satisfied: urllib3<3,>=1.21.1 in /usr/local/lib/python3.11/dist-packages (from requests<3.0.0,>=2.18.0->google-api-core!=2.0.*,!=2.1.*,!=2.10.*,!=2.2.*,!=2.3.*,!=2.4.*,!=2.5.*,!=2.6.*,!=2.7.*,!=2.8.*,!=2.9.*,<3.0.0,>=1.34.1->google-api-core[grpc]!=2.0.*,!=2.1.*,!=2.10.*,!=2.2.*,!=2.3.*,!=2.4.*,!=2.5.*,!=2.6.*,!=2.7.*,!=2.8.*,!=2.9.*,<3.0.0,>=1.34.1->google-ai-generativelanguage<0.7.0,>=0.6.18->langchain_google_genai) (2.4.0)\n",
            "Requirement already satisfied: sniffio>=1.1 in /usr/local/lib/python3.11/dist-packages (from anyio->httpx<1,>=0.23.0->langsmith<0.4,>=0.1.125->langchain-core<0.4.0,>=0.3.52->langchain_google_genai) (1.3.1)\n"
          ]
        }
      ]
    },
    {
      "cell_type": "code",
      "source": [
        "#Convert Text chunks into Vectors\n",
        "from langchain_google_genai import GoogleGenerativeAIEmbeddings\n",
        "\n",
        "embeddings = GoogleGenerativeAIEmbeddings(model=\"models/gemini-embedding-exp-03-07\",google_api_key=GEMINI_API_KEY)\n",
        "vector = embeddings.embed_query(\"hello, world!\")\n",
        "vector[:5]\n"
      ],
      "metadata": {
        "colab": {
          "base_uri": "https://localhost:8080/"
        },
        "collapsed": true,
        "id": "Bi8QxnyXKNk1",
        "outputId": "71818d98-2ffd-4b58-a9ea-b51bd538e399"
      },
      "execution_count": 11,
      "outputs": [
        {
          "output_type": "execute_result",
          "data": {
            "text/plain": [
              "[-0.024917153641581535,\n",
              " 0.012005362659692764,\n",
              " -0.003886754624545574,\n",
              " -0.05774897709488869,\n",
              " 0.0020742062479257584]"
            ]
          },
          "metadata": {},
          "execution_count": 11
        }
      ]
    },
    {
      "cell_type": "code",
      "source": [
        "!pip install chromadb"
      ],
      "metadata": {
        "colab": {
          "base_uri": "https://localhost:8080/"
        },
        "collapsed": true,
        "id": "JAyI6QWHMQDA",
        "outputId": "2f321f41-e5c6-4fdb-e7b7-dd86b9f1c24d"
      },
      "execution_count": 12,
      "outputs": [
        {
          "output_type": "stream",
          "name": "stdout",
          "text": [
            "Requirement already satisfied: chromadb in /usr/local/lib/python3.11/dist-packages (1.0.9)\n",
            "Requirement already satisfied: build>=1.0.3 in /usr/local/lib/python3.11/dist-packages (from chromadb) (1.2.2.post1)\n",
            "Requirement already satisfied: pydantic>=1.9 in /usr/local/lib/python3.11/dist-packages (from chromadb) (2.11.4)\n",
            "Requirement already satisfied: fastapi==0.115.9 in /usr/local/lib/python3.11/dist-packages (from chromadb) (0.115.9)\n",
            "Requirement already satisfied: uvicorn>=0.18.3 in /usr/local/lib/python3.11/dist-packages (from uvicorn[standard]>=0.18.3->chromadb) (0.34.2)\n",
            "Requirement already satisfied: numpy>=1.22.5 in /usr/local/lib/python3.11/dist-packages (from chromadb) (2.0.2)\n",
            "Requirement already satisfied: posthog>=2.4.0 in /usr/local/lib/python3.11/dist-packages (from chromadb) (4.0.1)\n",
            "Requirement already satisfied: typing-extensions>=4.5.0 in /usr/local/lib/python3.11/dist-packages (from chromadb) (4.13.2)\n",
            "Requirement already satisfied: onnxruntime>=1.14.1 in /usr/local/lib/python3.11/dist-packages (from chromadb) (1.22.0)\n",
            "Requirement already satisfied: opentelemetry-api>=1.2.0 in /usr/local/lib/python3.11/dist-packages (from chromadb) (1.33.1)\n",
            "Requirement already satisfied: opentelemetry-exporter-otlp-proto-grpc>=1.2.0 in /usr/local/lib/python3.11/dist-packages (from chromadb) (1.33.1)\n",
            "Requirement already satisfied: opentelemetry-instrumentation-fastapi>=0.41b0 in /usr/local/lib/python3.11/dist-packages (from chromadb) (0.54b1)\n",
            "Requirement already satisfied: opentelemetry-sdk>=1.2.0 in /usr/local/lib/python3.11/dist-packages (from chromadb) (1.33.1)\n",
            "Requirement already satisfied: tokenizers>=0.13.2 in /usr/local/lib/python3.11/dist-packages (from chromadb) (0.21.1)\n",
            "Requirement already satisfied: pypika>=0.48.9 in /usr/local/lib/python3.11/dist-packages (from chromadb) (0.48.9)\n",
            "Requirement already satisfied: tqdm>=4.65.0 in /usr/local/lib/python3.11/dist-packages (from chromadb) (4.67.1)\n",
            "Requirement already satisfied: overrides>=7.3.1 in /usr/local/lib/python3.11/dist-packages (from chromadb) (7.7.0)\n",
            "Requirement already satisfied: importlib-resources in /usr/local/lib/python3.11/dist-packages (from chromadb) (6.5.2)\n",
            "Requirement already satisfied: grpcio>=1.58.0 in /usr/local/lib/python3.11/dist-packages (from chromadb) (1.71.0)\n",
            "Requirement already satisfied: bcrypt>=4.0.1 in /usr/local/lib/python3.11/dist-packages (from chromadb) (4.3.0)\n",
            "Requirement already satisfied: typer>=0.9.0 in /usr/local/lib/python3.11/dist-packages (from chromadb) (0.15.3)\n",
            "Requirement already satisfied: kubernetes>=28.1.0 in /usr/local/lib/python3.11/dist-packages (from chromadb) (32.0.1)\n",
            "Requirement already satisfied: tenacity>=8.2.3 in /usr/local/lib/python3.11/dist-packages (from chromadb) (9.1.2)\n",
            "Requirement already satisfied: pyyaml>=6.0.0 in /usr/local/lib/python3.11/dist-packages (from chromadb) (6.0.2)\n",
            "Requirement already satisfied: mmh3>=4.0.1 in /usr/local/lib/python3.11/dist-packages (from chromadb) (5.1.0)\n",
            "Requirement already satisfied: orjson>=3.9.12 in /usr/local/lib/python3.11/dist-packages (from chromadb) (3.10.18)\n",
            "Requirement already satisfied: httpx>=0.27.0 in /usr/local/lib/python3.11/dist-packages (from chromadb) (0.28.1)\n",
            "Requirement already satisfied: rich>=10.11.0 in /usr/local/lib/python3.11/dist-packages (from chromadb) (13.9.4)\n",
            "Requirement already satisfied: jsonschema>=4.19.0 in /usr/local/lib/python3.11/dist-packages (from chromadb) (4.23.0)\n",
            "Requirement already satisfied: starlette<0.46.0,>=0.40.0 in /usr/local/lib/python3.11/dist-packages (from fastapi==0.115.9->chromadb) (0.45.3)\n",
            "Requirement already satisfied: packaging>=19.1 in /usr/local/lib/python3.11/dist-packages (from build>=1.0.3->chromadb) (24.2)\n",
            "Requirement already satisfied: pyproject_hooks in /usr/local/lib/python3.11/dist-packages (from build>=1.0.3->chromadb) (1.2.0)\n",
            "Requirement already satisfied: anyio in /usr/local/lib/python3.11/dist-packages (from httpx>=0.27.0->chromadb) (4.9.0)\n",
            "Requirement already satisfied: certifi in /usr/local/lib/python3.11/dist-packages (from httpx>=0.27.0->chromadb) (2025.4.26)\n",
            "Requirement already satisfied: httpcore==1.* in /usr/local/lib/python3.11/dist-packages (from httpx>=0.27.0->chromadb) (1.0.9)\n",
            "Requirement already satisfied: idna in /usr/local/lib/python3.11/dist-packages (from httpx>=0.27.0->chromadb) (3.10)\n",
            "Requirement already satisfied: h11>=0.16 in /usr/local/lib/python3.11/dist-packages (from httpcore==1.*->httpx>=0.27.0->chromadb) (0.16.0)\n",
            "Requirement already satisfied: attrs>=22.2.0 in /usr/local/lib/python3.11/dist-packages (from jsonschema>=4.19.0->chromadb) (25.3.0)\n",
            "Requirement already satisfied: jsonschema-specifications>=2023.03.6 in /usr/local/lib/python3.11/dist-packages (from jsonschema>=4.19.0->chromadb) (2025.4.1)\n",
            "Requirement already satisfied: referencing>=0.28.4 in /usr/local/lib/python3.11/dist-packages (from jsonschema>=4.19.0->chromadb) (0.36.2)\n",
            "Requirement already satisfied: rpds-py>=0.7.1 in /usr/local/lib/python3.11/dist-packages (from jsonschema>=4.19.0->chromadb) (0.24.0)\n",
            "Requirement already satisfied: six>=1.9.0 in /usr/local/lib/python3.11/dist-packages (from kubernetes>=28.1.0->chromadb) (1.17.0)\n",
            "Requirement already satisfied: python-dateutil>=2.5.3 in /usr/local/lib/python3.11/dist-packages (from kubernetes>=28.1.0->chromadb) (2.9.0.post0)\n",
            "Requirement already satisfied: google-auth>=1.0.1 in /usr/local/lib/python3.11/dist-packages (from kubernetes>=28.1.0->chromadb) (2.38.0)\n",
            "Requirement already satisfied: websocket-client!=0.40.0,!=0.41.*,!=0.42.*,>=0.32.0 in /usr/local/lib/python3.11/dist-packages (from kubernetes>=28.1.0->chromadb) (1.8.0)\n",
            "Requirement already satisfied: requests in /usr/local/lib/python3.11/dist-packages (from kubernetes>=28.1.0->chromadb) (2.32.3)\n",
            "Requirement already satisfied: requests-oauthlib in /usr/local/lib/python3.11/dist-packages (from kubernetes>=28.1.0->chromadb) (2.0.0)\n",
            "Requirement already satisfied: oauthlib>=3.2.2 in /usr/local/lib/python3.11/dist-packages (from kubernetes>=28.1.0->chromadb) (3.2.2)\n",
            "Requirement already satisfied: urllib3>=1.24.2 in /usr/local/lib/python3.11/dist-packages (from kubernetes>=28.1.0->chromadb) (2.4.0)\n",
            "Requirement already satisfied: durationpy>=0.7 in /usr/local/lib/python3.11/dist-packages (from kubernetes>=28.1.0->chromadb) (0.10)\n",
            "Requirement already satisfied: coloredlogs in /usr/local/lib/python3.11/dist-packages (from onnxruntime>=1.14.1->chromadb) (15.0.1)\n",
            "Requirement already satisfied: flatbuffers in /usr/local/lib/python3.11/dist-packages (from onnxruntime>=1.14.1->chromadb) (25.2.10)\n",
            "Requirement already satisfied: protobuf in /usr/local/lib/python3.11/dist-packages (from onnxruntime>=1.14.1->chromadb) (5.29.4)\n",
            "Requirement already satisfied: sympy in /usr/local/lib/python3.11/dist-packages (from onnxruntime>=1.14.1->chromadb) (1.13.1)\n",
            "Requirement already satisfied: deprecated>=1.2.6 in /usr/local/lib/python3.11/dist-packages (from opentelemetry-api>=1.2.0->chromadb) (1.2.18)\n",
            "Requirement already satisfied: importlib-metadata<8.7.0,>=6.0 in /usr/local/lib/python3.11/dist-packages (from opentelemetry-api>=1.2.0->chromadb) (8.6.1)\n",
            "Requirement already satisfied: googleapis-common-protos~=1.52 in /usr/local/lib/python3.11/dist-packages (from opentelemetry-exporter-otlp-proto-grpc>=1.2.0->chromadb) (1.70.0)\n",
            "Requirement already satisfied: opentelemetry-exporter-otlp-proto-common==1.33.1 in /usr/local/lib/python3.11/dist-packages (from opentelemetry-exporter-otlp-proto-grpc>=1.2.0->chromadb) (1.33.1)\n",
            "Requirement already satisfied: opentelemetry-proto==1.33.1 in /usr/local/lib/python3.11/dist-packages (from opentelemetry-exporter-otlp-proto-grpc>=1.2.0->chromadb) (1.33.1)\n",
            "Requirement already satisfied: opentelemetry-instrumentation-asgi==0.54b1 in /usr/local/lib/python3.11/dist-packages (from opentelemetry-instrumentation-fastapi>=0.41b0->chromadb) (0.54b1)\n",
            "Requirement already satisfied: opentelemetry-instrumentation==0.54b1 in /usr/local/lib/python3.11/dist-packages (from opentelemetry-instrumentation-fastapi>=0.41b0->chromadb) (0.54b1)\n",
            "Requirement already satisfied: opentelemetry-semantic-conventions==0.54b1 in /usr/local/lib/python3.11/dist-packages (from opentelemetry-instrumentation-fastapi>=0.41b0->chromadb) (0.54b1)\n",
            "Requirement already satisfied: opentelemetry-util-http==0.54b1 in /usr/local/lib/python3.11/dist-packages (from opentelemetry-instrumentation-fastapi>=0.41b0->chromadb) (0.54b1)\n",
            "Requirement already satisfied: wrapt<2.0.0,>=1.0.0 in /usr/local/lib/python3.11/dist-packages (from opentelemetry-instrumentation==0.54b1->opentelemetry-instrumentation-fastapi>=0.41b0->chromadb) (1.17.2)\n",
            "Requirement already satisfied: asgiref~=3.0 in /usr/local/lib/python3.11/dist-packages (from opentelemetry-instrumentation-asgi==0.54b1->opentelemetry-instrumentation-fastapi>=0.41b0->chromadb) (3.8.1)\n",
            "Requirement already satisfied: backoff>=1.10.0 in /usr/local/lib/python3.11/dist-packages (from posthog>=2.4.0->chromadb) (2.2.1)\n",
            "Requirement already satisfied: distro>=1.5.0 in /usr/local/lib/python3.11/dist-packages (from posthog>=2.4.0->chromadb) (1.9.0)\n",
            "Requirement already satisfied: annotated-types>=0.6.0 in /usr/local/lib/python3.11/dist-packages (from pydantic>=1.9->chromadb) (0.7.0)\n",
            "Requirement already satisfied: pydantic-core==2.33.2 in /usr/local/lib/python3.11/dist-packages (from pydantic>=1.9->chromadb) (2.33.2)\n",
            "Requirement already satisfied: typing-inspection>=0.4.0 in /usr/local/lib/python3.11/dist-packages (from pydantic>=1.9->chromadb) (0.4.0)\n",
            "Requirement already satisfied: markdown-it-py>=2.2.0 in /usr/local/lib/python3.11/dist-packages (from rich>=10.11.0->chromadb) (3.0.0)\n",
            "Requirement already satisfied: pygments<3.0.0,>=2.13.0 in /usr/local/lib/python3.11/dist-packages (from rich>=10.11.0->chromadb) (2.19.1)\n",
            "Requirement already satisfied: huggingface-hub<1.0,>=0.16.4 in /usr/local/lib/python3.11/dist-packages (from tokenizers>=0.13.2->chromadb) (0.31.2)\n",
            "Requirement already satisfied: click>=8.0.0 in /usr/local/lib/python3.11/dist-packages (from typer>=0.9.0->chromadb) (8.2.0)\n",
            "Requirement already satisfied: shellingham>=1.3.0 in /usr/local/lib/python3.11/dist-packages (from typer>=0.9.0->chromadb) (1.5.4)\n",
            "Requirement already satisfied: httptools>=0.6.3 in /usr/local/lib/python3.11/dist-packages (from uvicorn[standard]>=0.18.3->chromadb) (0.6.4)\n",
            "Requirement already satisfied: python-dotenv>=0.13 in /usr/local/lib/python3.11/dist-packages (from uvicorn[standard]>=0.18.3->chromadb) (1.1.0)\n",
            "Requirement already satisfied: uvloop!=0.15.0,!=0.15.1,>=0.14.0 in /usr/local/lib/python3.11/dist-packages (from uvicorn[standard]>=0.18.3->chromadb) (0.21.0)\n",
            "Requirement already satisfied: watchfiles>=0.13 in /usr/local/lib/python3.11/dist-packages (from uvicorn[standard]>=0.18.3->chromadb) (1.0.5)\n",
            "Requirement already satisfied: websockets>=10.4 in /usr/local/lib/python3.11/dist-packages (from uvicorn[standard]>=0.18.3->chromadb) (15.0.1)\n",
            "Requirement already satisfied: cachetools<6.0,>=2.0.0 in /usr/local/lib/python3.11/dist-packages (from google-auth>=1.0.1->kubernetes>=28.1.0->chromadb) (5.5.2)\n",
            "Requirement already satisfied: pyasn1-modules>=0.2.1 in /usr/local/lib/python3.11/dist-packages (from google-auth>=1.0.1->kubernetes>=28.1.0->chromadb) (0.4.2)\n",
            "Requirement already satisfied: rsa<5,>=3.1.4 in /usr/local/lib/python3.11/dist-packages (from google-auth>=1.0.1->kubernetes>=28.1.0->chromadb) (4.9.1)\n",
            "Requirement already satisfied: filelock in /usr/local/lib/python3.11/dist-packages (from huggingface-hub<1.0,>=0.16.4->tokenizers>=0.13.2->chromadb) (3.18.0)\n",
            "Requirement already satisfied: fsspec>=2023.5.0 in /usr/local/lib/python3.11/dist-packages (from huggingface-hub<1.0,>=0.16.4->tokenizers>=0.13.2->chromadb) (2025.3.2)\n",
            "Requirement already satisfied: zipp>=3.20 in /usr/local/lib/python3.11/dist-packages (from importlib-metadata<8.7.0,>=6.0->opentelemetry-api>=1.2.0->chromadb) (3.21.0)\n",
            "Requirement already satisfied: mdurl~=0.1 in /usr/local/lib/python3.11/dist-packages (from markdown-it-py>=2.2.0->rich>=10.11.0->chromadb) (0.1.2)\n",
            "Requirement already satisfied: charset-normalizer<4,>=2 in /usr/local/lib/python3.11/dist-packages (from requests->kubernetes>=28.1.0->chromadb) (3.4.2)\n",
            "Requirement already satisfied: sniffio>=1.1 in /usr/local/lib/python3.11/dist-packages (from anyio->httpx>=0.27.0->chromadb) (1.3.1)\n",
            "Requirement already satisfied: humanfriendly>=9.1 in /usr/local/lib/python3.11/dist-packages (from coloredlogs->onnxruntime>=1.14.1->chromadb) (10.0)\n",
            "Requirement already satisfied: mpmath<1.4,>=1.1.0 in /usr/local/lib/python3.11/dist-packages (from sympy->onnxruntime>=1.14.1->chromadb) (1.3.0)\n",
            "Requirement already satisfied: pyasn1<0.7.0,>=0.6.1 in /usr/local/lib/python3.11/dist-packages (from pyasn1-modules>=0.2.1->google-auth>=1.0.1->kubernetes>=28.1.0->chromadb) (0.6.1)\n",
            "\u001b[31mERROR: Operation cancelled by user\u001b[0m\u001b[31m\n",
            "\u001b[0mTraceback (most recent call last):\n",
            "  File \"/usr/local/lib/python3.11/dist-packages/pip/_internal/cli/base_command.py\", line 179, in exc_logging_wrapper\n",
            "    status = run_func(*args)\n",
            "             ^^^^^^^^^^^^^^^\n",
            "  File \"/usr/local/lib/python3.11/dist-packages/pip/_internal/cli/req_command.py\", line 67, in wrapper\n",
            "    return func(self, options, args)\n",
            "           ^^^^^^^^^^^^^^^^^^^^^^^^^\n",
            "  File \"/usr/local/lib/python3.11/dist-packages/pip/_internal/commands/install.py\", line 447, in run\n",
            "    conflicts = self._determine_conflicts(to_install)\n",
            "                ^^^^^^^^^^^^^^^^^^^^^^^^^^^^^^^^^^^^^\n",
            "  File \"/usr/local/lib/python3.11/dist-packages/pip/_internal/commands/install.py\", line 578, in _determine_conflicts\n",
            "    return check_install_conflicts(to_install)\n",
            "           ^^^^^^^^^^^^^^^^^^^^^^^^^^^^^^^^^^^\n",
            "  File \"/usr/local/lib/python3.11/dist-packages/pip/_internal/operations/check.py\", line 101, in check_install_conflicts\n",
            "    package_set, _ = create_package_set_from_installed()\n",
            "                     ^^^^^^^^^^^^^^^^^^^^^^^^^^^^^^^^^^^\n",
            "  File \"/usr/local/lib/python3.11/dist-packages/pip/_internal/operations/check.py\", line 42, in create_package_set_from_installed\n",
            "    dependencies = list(dist.iter_dependencies())\n",
            "                   ^^^^^^^^^^^^^^^^^^^^^^^^^^^^^^\n",
            "  File \"/usr/local/lib/python3.11/dist-packages/pip/_internal/metadata/importlib/_dists.py\", line 222, in iter_dependencies\n",
            "    req = Requirement(req_string.strip())\n",
            "          ^^^^^^^^^^^^^^^^^^^^^^^^^^^^^^^\n",
            "  File \"/usr/local/lib/python3.11/dist-packages/pip/_vendor/packaging/requirements.py\", line 43, in __init__\n",
            "    self.specifier: SpecifierSet = SpecifierSet(parsed.specifier)\n",
            "                                   ^^^^^^^^^^^^^^^^^^^^^^^^^^^^^^\n",
            "  File \"/usr/local/lib/python3.11/dist-packages/pip/_vendor/packaging/specifiers.py\", line 718, in __init__\n",
            "    self._specs = frozenset(map(Specifier, split_specifiers))\n",
            "                  ^^^^^^^^^^^^^^^^^^^^^^^^^^^^^^^^^^^^^^^^^^^\n",
            "  File \"/usr/local/lib/python3.11/dist-packages/pip/_vendor/packaging/specifiers.py\", line 331, in __hash__\n",
            "    return hash(self._canonical_spec)\n",
            "                ^^^^^^^^^^^^^^^^^^^^\n",
            "  File \"/usr/local/lib/python3.11/dist-packages/pip/_vendor/packaging/specifiers.py\", line 324, in _canonical_spec\n",
            "    canonical_version = canonicalize_version(\n",
            "                        ^^^^^^^^^^^^^^^^^^^^^\n",
            "  File \"/usr/local/lib/python3.11/dist-packages/pip/_vendor/packaging/utils.py\", line 66, in canonicalize_version\n",
            "    parsed = Version(version)\n",
            "             ^^^^^^^^^^^^^^^^\n",
            "  File \"/usr/local/lib/python3.11/dist-packages/pip/_vendor/packaging/version.py\", line 200, in __init__\n",
            "    match = self._regex.search(version)\n",
            "            ^^^^^^^^^^^^^^^^^^^^^^^^^^^\n",
            "KeyboardInterrupt\n",
            "\n",
            "During handling of the above exception, another exception occurred:\n",
            "\n",
            "Traceback (most recent call last):\n",
            "  File \"/usr/local/bin/pip3\", line 10, in <module>\n",
            "    sys.exit(main())\n",
            "             ^^^^^^\n",
            "  File \"/usr/local/lib/python3.11/dist-packages/pip/_internal/cli/main.py\", line 80, in main\n",
            "    return command.main(cmd_args)\n",
            "           ^^^^^^^^^^^^^^^^^^^^^^\n",
            "  File \"/usr/local/lib/python3.11/dist-packages/pip/_internal/cli/base_command.py\", line 100, in main\n",
            "    return self._main(args)\n",
            "           ^^^^^^^^^^^^^^^^\n",
            "  File \"/usr/local/lib/python3.11/dist-packages/pip/_internal/cli/base_command.py\", line 232, in _main\n",
            "    return run(options, args)\n",
            "           ^^^^^^^^^^^^^^^^^^\n",
            "  File \"/usr/local/lib/python3.11/dist-packages/pip/_internal/cli/base_command.py\", line 216, in exc_logging_wrapper\n",
            "    logger.debug(\"Exception information:\", exc_info=True)\n",
            "  File \"/usr/lib/python3.11/logging/__init__.py\", line 1477, in debug\n",
            "    self._log(DEBUG, msg, args, **kwargs)\n",
            "  File \"/usr/lib/python3.11/logging/__init__.py\", line 1634, in _log\n",
            "    self.handle(record)\n",
            "  File \"/usr/lib/python3.11/logging/__init__.py\", line 1644, in handle\n",
            "    self.callHandlers(record)\n",
            "  File \"/usr/lib/python3.11/logging/__init__.py\", line 1706, in callHandlers\n",
            "    hdlr.handle(record)\n",
            "  File \"/usr/lib/python3.11/logging/__init__.py\", line 978, in handle\n",
            "    self.emit(record)\n",
            "  File \"/usr/lib/python3.11/logging/handlers.py\", line 75, in emit\n",
            "    logging.FileHandler.emit(self, record)\n",
            "  File \"/usr/lib/python3.11/logging/__init__.py\", line 1230, in emit\n",
            "    StreamHandler.emit(self, record)\n",
            "  File \"/usr/lib/python3.11/logging/__init__.py\", line 1110, in emit\n",
            "    msg = self.format(record)\n",
            "          ^^^^^^^^^^^^^^^^^^^\n",
            "  File \"/usr/lib/python3.11/logging/__init__.py\", line 953, in format\n",
            "    return fmt.format(record)\n",
            "           ^^^^^^^^^^^^^^^^^^\n",
            "  File \"/usr/local/lib/python3.11/dist-packages/pip/_internal/utils/logging.py\", line 112, in format\n",
            "    formatted = super().format(record)\n",
            "                ^^^^^^^^^^^^^^^^^^^^^^\n",
            "  File \"/usr/lib/python3.11/logging/__init__.py\", line 695, in format\n",
            "    record.exc_text = self.formatException(record.exc_info)\n",
            "                      ^^^^^^^^^^^^^^^^^^^^^^^^^^^^^^^^^^^^^\n",
            "  File \"/usr/lib/python3.11/logging/__init__.py\", line 645, in formatException\n",
            "    traceback.print_exception(ei[0], ei[1], tb, None, sio)\n",
            "  File \"/usr/lib/python3.11/traceback.py\", line 124, in print_exception\n",
            "    te = TracebackException(type(value), value, tb, limit=limit, compact=True)\n",
            "         ^^^^^^^^^^^^^^^^^^^^^^^^^^^^^^^^^^^^^^^^^^^^^^^^^^^^^^^^^^^^^^^^^^^^^\n",
            "  File \"/usr/lib/python3.11/traceback.py\", line 728, in __init__\n",
            "    self.stack = StackSummary._extract_from_extended_frame_gen(\n",
            "                 ^^^^^^^^^^^^^^^^^^^^^^^^^^^^^^^^^^^^^^^^^^^^^^\n",
            "  File \"/usr/lib/python3.11/traceback.py\", line 433, in _extract_from_extended_frame_gen\n",
            "    f.line\n",
            "  File \"/usr/lib/python3.11/traceback.py\", line 318, in line\n",
            "    self._line = linecache.getline(self.filename, self.lineno)\n",
            "                 ^^^^^^^^^^^^^^^^^^^^^^^^^^^^^^^^^^^^^^^^^^^^^\n",
            "  File \"/usr/lib/python3.11/linecache.py\", line 30, in getline\n",
            "    lines = getlines(filename, module_globals)\n",
            "            ^^^^^^^^^^^^^^^^^^^^^^^^^^^^^^^^^^\n",
            "  File \"/usr/lib/python3.11/linecache.py\", line 46, in getlines\n",
            "    return updatecache(filename, module_globals)\n",
            "           ^^^^^^^^^^^^^^^^^^^^^^^^^^^^^^^^^^^^^\n",
            "  File \"/usr/lib/python3.11/linecache.py\", line 136, in updatecache\n",
            "    with tokenize.open(fullname) as fp:\n",
            "         ^^^^^^^^^^^^^^^^^^^^^^^\n",
            "  File \"/usr/lib/python3.11/tokenize.py\", line 398, in open\n",
            "    encoding, lines = detect_encoding(buffer.readline)\n",
            "                      ^^^^^^^^^^^^^^^^^^^^^^^^^^^^^^^^\n",
            "  File \"/usr/lib/python3.11/tokenize.py\", line 367, in detect_encoding\n",
            "    first = read_or_stop()\n",
            "            ^^^^^^^^^^^^^^\n",
            "  File \"/usr/lib/python3.11/tokenize.py\", line 325, in read_or_stop\n",
            "    return readline()\n",
            "           ^^^^^^^^^^\n",
            "KeyboardInterrupt\n",
            "^C\n"
          ]
        }
      ]
    },
    {
      "cell_type": "code",
      "source": [
        "from langchain_community.vectorstores import Chroma\n",
        "db=Chroma.from_documents(documents[:5],embeddings)"
      ],
      "metadata": {
        "colab": {
          "base_uri": "https://localhost:8080/",
          "height": 547
        },
        "collapsed": true,
        "id": "0GNzYfZ5LwIm",
        "outputId": "8b73dd89-da75-40c4-e38e-b5f97db55c1d"
      },
      "execution_count": 16,
      "outputs": [
        {
          "output_type": "error",
          "ename": "GoogleGenerativeAIError",
          "evalue": "Error embedding content: 429 Resource has been exhausted (e.g. check quota).",
          "traceback": [
            "\u001b[0;31m---------------------------------------------------------------------------\u001b[0m",
            "\u001b[0;31mResourceExhausted\u001b[0m                         Traceback (most recent call last)",
            "\u001b[0;32m/usr/local/lib/python3.11/dist-packages/langchain_google_genai/embeddings.py\u001b[0m in \u001b[0;36membed_documents\u001b[0;34m(self, texts, batch_size, task_type, titles, output_dimensionality)\u001b[0m\n\u001b[1;32m    227\u001b[0m             \u001b[0;32mtry\u001b[0m\u001b[0;34m:\u001b[0m\u001b[0;34m\u001b[0m\u001b[0;34m\u001b[0m\u001b[0m\n\u001b[0;32m--> 228\u001b[0;31m                 result = self.client.batch_embed_contents(\n\u001b[0m\u001b[1;32m    229\u001b[0m                     \u001b[0mBatchEmbedContentsRequest\u001b[0m\u001b[0;34m(\u001b[0m\u001b[0mrequests\u001b[0m\u001b[0;34m=\u001b[0m\u001b[0mrequests\u001b[0m\u001b[0;34m,\u001b[0m \u001b[0mmodel\u001b[0m\u001b[0;34m=\u001b[0m\u001b[0mself\u001b[0m\u001b[0;34m.\u001b[0m\u001b[0mmodel\u001b[0m\u001b[0;34m)\u001b[0m\u001b[0;34m\u001b[0m\u001b[0;34m\u001b[0m\u001b[0m\n",
            "\u001b[0;32m/usr/local/lib/python3.11/dist-packages/google/ai/generativelanguage_v1beta/services/generative_service/client.py\u001b[0m in \u001b[0;36mbatch_embed_contents\u001b[0;34m(self, request, model, requests, retry, timeout, metadata)\u001b[0m\n\u001b[1;32m   1436\u001b[0m         \u001b[0;31m# Send the request.\u001b[0m\u001b[0;34m\u001b[0m\u001b[0;34m\u001b[0m\u001b[0m\n\u001b[0;32m-> 1437\u001b[0;31m         response = rpc(\n\u001b[0m\u001b[1;32m   1438\u001b[0m             \u001b[0mrequest\u001b[0m\u001b[0;34m,\u001b[0m\u001b[0;34m\u001b[0m\u001b[0;34m\u001b[0m\u001b[0m\n",
            "\u001b[0;32m/usr/local/lib/python3.11/dist-packages/google/api_core/gapic_v1/method.py\u001b[0m in \u001b[0;36m__call__\u001b[0;34m(self, timeout, retry, compression, *args, **kwargs)\u001b[0m\n\u001b[1;32m    130\u001b[0m \u001b[0;34m\u001b[0m\u001b[0m\n\u001b[0;32m--> 131\u001b[0;31m         \u001b[0;32mreturn\u001b[0m \u001b[0mwrapped_func\u001b[0m\u001b[0;34m(\u001b[0m\u001b[0;34m*\u001b[0m\u001b[0margs\u001b[0m\u001b[0;34m,\u001b[0m \u001b[0;34m**\u001b[0m\u001b[0mkwargs\u001b[0m\u001b[0;34m)\u001b[0m\u001b[0;34m\u001b[0m\u001b[0;34m\u001b[0m\u001b[0m\n\u001b[0m\u001b[1;32m    132\u001b[0m \u001b[0;34m\u001b[0m\u001b[0m\n",
            "\u001b[0;32m/usr/local/lib/python3.11/dist-packages/google/api_core/retry/retry_unary.py\u001b[0m in \u001b[0;36mretry_wrapped_func\u001b[0;34m(*args, **kwargs)\u001b[0m\n\u001b[1;32m    292\u001b[0m             )\n\u001b[0;32m--> 293\u001b[0;31m             return retry_target(\n\u001b[0m\u001b[1;32m    294\u001b[0m                 \u001b[0mtarget\u001b[0m\u001b[0;34m,\u001b[0m\u001b[0;34m\u001b[0m\u001b[0;34m\u001b[0m\u001b[0m\n",
            "\u001b[0;32m/usr/local/lib/python3.11/dist-packages/google/api_core/retry/retry_unary.py\u001b[0m in \u001b[0;36mretry_target\u001b[0;34m(target, predicate, sleep_generator, timeout, on_error, exception_factory, **kwargs)\u001b[0m\n\u001b[1;32m    152\u001b[0m             \u001b[0;31m# defer to shared logic for handling errors\u001b[0m\u001b[0;34m\u001b[0m\u001b[0;34m\u001b[0m\u001b[0m\n\u001b[0;32m--> 153\u001b[0;31m             _retry_error_helper(\n\u001b[0m\u001b[1;32m    154\u001b[0m                 \u001b[0mexc\u001b[0m\u001b[0;34m,\u001b[0m\u001b[0;34m\u001b[0m\u001b[0;34m\u001b[0m\u001b[0m\n",
            "\u001b[0;32m/usr/local/lib/python3.11/dist-packages/google/api_core/retry/retry_base.py\u001b[0m in \u001b[0;36m_retry_error_helper\u001b[0;34m(exc, deadline, next_sleep, error_list, predicate_fn, on_error_fn, exc_factory_fn, original_timeout)\u001b[0m\n\u001b[1;32m    211\u001b[0m         )\n\u001b[0;32m--> 212\u001b[0;31m         \u001b[0;32mraise\u001b[0m \u001b[0mfinal_exc\u001b[0m \u001b[0;32mfrom\u001b[0m \u001b[0msource_exc\u001b[0m\u001b[0;34m\u001b[0m\u001b[0;34m\u001b[0m\u001b[0m\n\u001b[0m\u001b[1;32m    213\u001b[0m     \u001b[0;32mif\u001b[0m \u001b[0mon_error_fn\u001b[0m \u001b[0;32mis\u001b[0m \u001b[0;32mnot\u001b[0m \u001b[0;32mNone\u001b[0m\u001b[0;34m:\u001b[0m\u001b[0;34m\u001b[0m\u001b[0;34m\u001b[0m\u001b[0m\n",
            "\u001b[0;32m/usr/local/lib/python3.11/dist-packages/google/api_core/retry/retry_unary.py\u001b[0m in \u001b[0;36mretry_target\u001b[0;34m(target, predicate, sleep_generator, timeout, on_error, exception_factory, **kwargs)\u001b[0m\n\u001b[1;32m    143\u001b[0m         \u001b[0;32mtry\u001b[0m\u001b[0;34m:\u001b[0m\u001b[0;34m\u001b[0m\u001b[0;34m\u001b[0m\u001b[0m\n\u001b[0;32m--> 144\u001b[0;31m             \u001b[0mresult\u001b[0m \u001b[0;34m=\u001b[0m \u001b[0mtarget\u001b[0m\u001b[0;34m(\u001b[0m\u001b[0;34m)\u001b[0m\u001b[0;34m\u001b[0m\u001b[0;34m\u001b[0m\u001b[0m\n\u001b[0m\u001b[1;32m    145\u001b[0m             \u001b[0;32mif\u001b[0m \u001b[0minspect\u001b[0m\u001b[0;34m.\u001b[0m\u001b[0misawaitable\u001b[0m\u001b[0;34m(\u001b[0m\u001b[0mresult\u001b[0m\u001b[0;34m)\u001b[0m\u001b[0;34m:\u001b[0m\u001b[0;34m\u001b[0m\u001b[0;34m\u001b[0m\u001b[0m\n",
            "\u001b[0;32m/usr/local/lib/python3.11/dist-packages/google/api_core/timeout.py\u001b[0m in \u001b[0;36mfunc_with_timeout\u001b[0;34m(*args, **kwargs)\u001b[0m\n\u001b[1;32m    129\u001b[0m \u001b[0;34m\u001b[0m\u001b[0m\n\u001b[0;32m--> 130\u001b[0;31m             \u001b[0;32mreturn\u001b[0m \u001b[0mfunc\u001b[0m\u001b[0;34m(\u001b[0m\u001b[0;34m*\u001b[0m\u001b[0margs\u001b[0m\u001b[0;34m,\u001b[0m \u001b[0;34m**\u001b[0m\u001b[0mkwargs\u001b[0m\u001b[0;34m)\u001b[0m\u001b[0;34m\u001b[0m\u001b[0;34m\u001b[0m\u001b[0m\n\u001b[0m\u001b[1;32m    131\u001b[0m \u001b[0;34m\u001b[0m\u001b[0m\n",
            "\u001b[0;32m/usr/local/lib/python3.11/dist-packages/google/api_core/grpc_helpers.py\u001b[0m in \u001b[0;36merror_remapped_callable\u001b[0;34m(*args, **kwargs)\u001b[0m\n\u001b[1;32m     77\u001b[0m         \u001b[0;32mexcept\u001b[0m \u001b[0mgrpc\u001b[0m\u001b[0;34m.\u001b[0m\u001b[0mRpcError\u001b[0m \u001b[0;32mas\u001b[0m \u001b[0mexc\u001b[0m\u001b[0;34m:\u001b[0m\u001b[0;34m\u001b[0m\u001b[0;34m\u001b[0m\u001b[0m\n\u001b[0;32m---> 78\u001b[0;31m             \u001b[0;32mraise\u001b[0m \u001b[0mexceptions\u001b[0m\u001b[0;34m.\u001b[0m\u001b[0mfrom_grpc_error\u001b[0m\u001b[0;34m(\u001b[0m\u001b[0mexc\u001b[0m\u001b[0;34m)\u001b[0m \u001b[0;32mfrom\u001b[0m \u001b[0mexc\u001b[0m\u001b[0;34m\u001b[0m\u001b[0;34m\u001b[0m\u001b[0m\n\u001b[0m\u001b[1;32m     79\u001b[0m \u001b[0;34m\u001b[0m\u001b[0m\n",
            "\u001b[0;31mResourceExhausted\u001b[0m: 429 Resource has been exhausted (e.g. check quota).",
            "\nThe above exception was the direct cause of the following exception:\n",
            "\u001b[0;31mGoogleGenerativeAIError\u001b[0m                   Traceback (most recent call last)",
            "\u001b[0;32m<ipython-input-16-212e0aef7183>\u001b[0m in \u001b[0;36m<cell line: 0>\u001b[0;34m()\u001b[0m\n\u001b[1;32m      1\u001b[0m \u001b[0;32mfrom\u001b[0m \u001b[0mlangchain_community\u001b[0m\u001b[0;34m.\u001b[0m\u001b[0mvectorstores\u001b[0m \u001b[0;32mimport\u001b[0m \u001b[0mChroma\u001b[0m\u001b[0;34m\u001b[0m\u001b[0;34m\u001b[0m\u001b[0m\n\u001b[0;32m----> 2\u001b[0;31m \u001b[0mdb\u001b[0m\u001b[0;34m=\u001b[0m\u001b[0mChroma\u001b[0m\u001b[0;34m.\u001b[0m\u001b[0mfrom_documents\u001b[0m\u001b[0;34m(\u001b[0m\u001b[0mdocuments\u001b[0m\u001b[0;34m[\u001b[0m\u001b[0;34m:\u001b[0m\u001b[0;36m5\u001b[0m\u001b[0;34m]\u001b[0m\u001b[0;34m,\u001b[0m\u001b[0membeddings\u001b[0m\u001b[0;34m)\u001b[0m\u001b[0;34m\u001b[0m\u001b[0;34m\u001b[0m\u001b[0m\n\u001b[0m",
            "\u001b[0;32m/usr/local/lib/python3.11/dist-packages/langchain_community/vectorstores/chroma.py\u001b[0m in \u001b[0;36mfrom_documents\u001b[0;34m(cls, documents, embedding, ids, collection_name, persist_directory, client_settings, client, collection_metadata, **kwargs)\u001b[0m\n\u001b[1;32m    885\u001b[0m         \u001b[0mtexts\u001b[0m \u001b[0;34m=\u001b[0m \u001b[0;34m[\u001b[0m\u001b[0mdoc\u001b[0m\u001b[0;34m.\u001b[0m\u001b[0mpage_content\u001b[0m \u001b[0;32mfor\u001b[0m \u001b[0mdoc\u001b[0m \u001b[0;32min\u001b[0m \u001b[0mdocuments\u001b[0m\u001b[0;34m]\u001b[0m\u001b[0;34m\u001b[0m\u001b[0;34m\u001b[0m\u001b[0m\n\u001b[1;32m    886\u001b[0m         \u001b[0mmetadatas\u001b[0m \u001b[0;34m=\u001b[0m \u001b[0;34m[\u001b[0m\u001b[0mdoc\u001b[0m\u001b[0;34m.\u001b[0m\u001b[0mmetadata\u001b[0m \u001b[0;32mfor\u001b[0m \u001b[0mdoc\u001b[0m \u001b[0;32min\u001b[0m \u001b[0mdocuments\u001b[0m\u001b[0;34m]\u001b[0m\u001b[0;34m\u001b[0m\u001b[0;34m\u001b[0m\u001b[0m\n\u001b[0;32m--> 887\u001b[0;31m         return cls.from_texts(\n\u001b[0m\u001b[1;32m    888\u001b[0m             \u001b[0mtexts\u001b[0m\u001b[0;34m=\u001b[0m\u001b[0mtexts\u001b[0m\u001b[0;34m,\u001b[0m\u001b[0;34m\u001b[0m\u001b[0;34m\u001b[0m\u001b[0m\n\u001b[1;32m    889\u001b[0m             \u001b[0membedding\u001b[0m\u001b[0;34m=\u001b[0m\u001b[0membedding\u001b[0m\u001b[0;34m,\u001b[0m\u001b[0;34m\u001b[0m\u001b[0;34m\u001b[0m\u001b[0m\n",
            "\u001b[0;32m/usr/local/lib/python3.11/dist-packages/langchain_community/vectorstores/chroma.py\u001b[0m in \u001b[0;36mfrom_texts\u001b[0;34m(cls, texts, embedding, metadatas, ids, collection_name, persist_directory, client_settings, client, collection_metadata, **kwargs)\u001b[0m\n\u001b[1;32m    841\u001b[0m                 \u001b[0mdocuments\u001b[0m\u001b[0;34m=\u001b[0m\u001b[0mtexts\u001b[0m\u001b[0;34m,\u001b[0m\u001b[0;34m\u001b[0m\u001b[0;34m\u001b[0m\u001b[0m\n\u001b[1;32m    842\u001b[0m             ):\n\u001b[0;32m--> 843\u001b[0;31m                 chroma_collection.add_texts(\n\u001b[0m\u001b[1;32m    844\u001b[0m                     \u001b[0mtexts\u001b[0m\u001b[0;34m=\u001b[0m\u001b[0mbatch\u001b[0m\u001b[0;34m[\u001b[0m\u001b[0;36m3\u001b[0m\u001b[0;34m]\u001b[0m \u001b[0;32mif\u001b[0m \u001b[0mbatch\u001b[0m\u001b[0;34m[\u001b[0m\u001b[0;36m3\u001b[0m\u001b[0;34m]\u001b[0m \u001b[0;32melse\u001b[0m \u001b[0;34m[\u001b[0m\u001b[0;34m]\u001b[0m\u001b[0;34m,\u001b[0m\u001b[0;34m\u001b[0m\u001b[0;34m\u001b[0m\u001b[0m\n\u001b[1;32m    845\u001b[0m                     \u001b[0mmetadatas\u001b[0m\u001b[0;34m=\u001b[0m\u001b[0mbatch\u001b[0m\u001b[0;34m[\u001b[0m\u001b[0;36m2\u001b[0m\u001b[0;34m]\u001b[0m \u001b[0;32mif\u001b[0m \u001b[0mbatch\u001b[0m\u001b[0;34m[\u001b[0m\u001b[0;36m2\u001b[0m\u001b[0;34m]\u001b[0m \u001b[0;32melse\u001b[0m \u001b[0;32mNone\u001b[0m\u001b[0;34m,\u001b[0m\u001b[0;34m\u001b[0m\u001b[0;34m\u001b[0m\u001b[0m\n",
            "\u001b[0;32m/usr/local/lib/python3.11/dist-packages/langchain_community/vectorstores/chroma.py\u001b[0m in \u001b[0;36madd_texts\u001b[0;34m(self, texts, metadatas, ids, **kwargs)\u001b[0m\n\u001b[1;32m    275\u001b[0m         \u001b[0mtexts\u001b[0m \u001b[0;34m=\u001b[0m \u001b[0mlist\u001b[0m\u001b[0;34m(\u001b[0m\u001b[0mtexts\u001b[0m\u001b[0;34m)\u001b[0m\u001b[0;34m\u001b[0m\u001b[0;34m\u001b[0m\u001b[0m\n\u001b[1;32m    276\u001b[0m         \u001b[0;32mif\u001b[0m \u001b[0mself\u001b[0m\u001b[0;34m.\u001b[0m\u001b[0m_embedding_function\u001b[0m \u001b[0;32mis\u001b[0m \u001b[0;32mnot\u001b[0m \u001b[0;32mNone\u001b[0m\u001b[0;34m:\u001b[0m\u001b[0;34m\u001b[0m\u001b[0;34m\u001b[0m\u001b[0m\n\u001b[0;32m--> 277\u001b[0;31m             \u001b[0membeddings\u001b[0m \u001b[0;34m=\u001b[0m \u001b[0mself\u001b[0m\u001b[0;34m.\u001b[0m\u001b[0m_embedding_function\u001b[0m\u001b[0;34m.\u001b[0m\u001b[0membed_documents\u001b[0m\u001b[0;34m(\u001b[0m\u001b[0mtexts\u001b[0m\u001b[0;34m)\u001b[0m\u001b[0;34m\u001b[0m\u001b[0;34m\u001b[0m\u001b[0m\n\u001b[0m\u001b[1;32m    278\u001b[0m         \u001b[0;32mif\u001b[0m \u001b[0mmetadatas\u001b[0m\u001b[0;34m:\u001b[0m\u001b[0;34m\u001b[0m\u001b[0;34m\u001b[0m\u001b[0m\n\u001b[1;32m    279\u001b[0m             \u001b[0;31m# fill metadatas with empty dicts if somebody\u001b[0m\u001b[0;34m\u001b[0m\u001b[0;34m\u001b[0m\u001b[0m\n",
            "\u001b[0;32m/usr/local/lib/python3.11/dist-packages/langchain_google_genai/embeddings.py\u001b[0m in \u001b[0;36membed_documents\u001b[0;34m(self, texts, batch_size, task_type, titles, output_dimensionality)\u001b[0m\n\u001b[1;32m    230\u001b[0m                 )\n\u001b[1;32m    231\u001b[0m             \u001b[0;32mexcept\u001b[0m \u001b[0mException\u001b[0m \u001b[0;32mas\u001b[0m \u001b[0me\u001b[0m\u001b[0;34m:\u001b[0m\u001b[0;34m\u001b[0m\u001b[0;34m\u001b[0m\u001b[0m\n\u001b[0;32m--> 232\u001b[0;31m                 \u001b[0;32mraise\u001b[0m \u001b[0mGoogleGenerativeAIError\u001b[0m\u001b[0;34m(\u001b[0m\u001b[0;34mf\"Error embedding content: {e}\"\u001b[0m\u001b[0;34m)\u001b[0m \u001b[0;32mfrom\u001b[0m \u001b[0me\u001b[0m\u001b[0;34m\u001b[0m\u001b[0;34m\u001b[0m\u001b[0m\n\u001b[0m\u001b[1;32m    233\u001b[0m             \u001b[0membeddings\u001b[0m\u001b[0;34m.\u001b[0m\u001b[0mextend\u001b[0m\u001b[0;34m(\u001b[0m\u001b[0;34m[\u001b[0m\u001b[0mlist\u001b[0m\u001b[0;34m(\u001b[0m\u001b[0me\u001b[0m\u001b[0;34m.\u001b[0m\u001b[0mvalues\u001b[0m\u001b[0;34m)\u001b[0m \u001b[0;32mfor\u001b[0m \u001b[0me\u001b[0m \u001b[0;32min\u001b[0m \u001b[0mresult\u001b[0m\u001b[0;34m.\u001b[0m\u001b[0membeddings\u001b[0m\u001b[0;34m]\u001b[0m\u001b[0;34m)\u001b[0m\u001b[0;34m\u001b[0m\u001b[0;34m\u001b[0m\u001b[0m\n\u001b[1;32m    234\u001b[0m         \u001b[0;32mreturn\u001b[0m \u001b[0membeddings\u001b[0m\u001b[0;34m\u001b[0m\u001b[0;34m\u001b[0m\u001b[0m\n",
            "\u001b[0;31mGoogleGenerativeAIError\u001b[0m: Error embedding content: 429 Resource has been exhausted (e.g. check quota)."
          ]
        }
      ]
    },
    {
      "cell_type": "code",
      "source": [
        "## Vector database\n",
        "query=\"What is SET\"\n",
        "result=db.similarity_search(query)\n",
        "result[0].page_content"
      ],
      "metadata": {
        "colab": {
          "base_uri": "https://localhost:8080/",
          "height": 244
        },
        "collapsed": true,
        "id": "IHh2axvvNG-q",
        "outputId": "e163643e-ed48-45af-9447-7fc85d7b1935"
      },
      "execution_count": 19,
      "outputs": [
        {
          "output_type": "execute_result",
          "data": {
            "text/plain": [
              "'SET-Secure  Electronic  Transaction  \\n \\nSecure  Electronic  Transaction  (SET)  is  much  more  than  a  simple  encryption  method—it’s  an  \\nentire\\n \\nprotocol\\n \\ndesigned\\n \\nin\\n \\nthe\\n \\nmid\\n‑\\n1990s\\n \\nby\\n \\na\\n \\nconsortium\\n \\nincluding\\n \\nVisa,\\n \\nMasterCard,\\n \\nIBM,\\n \\nMicrosoft,\\n \\nNetscape,\\n \\nand\\n \\nothers\\n \\nto\\n \\nsecure\\n \\nonline\\n \\ncredit\\n \\nand\\n \\ndebit\\n \\ncard\\n \\ntransactions.\\n \\nLet’s\\n \\nbreak\\n \\ndown\\n \\nits\\n \\nkey\\n \\naspects\\n \\nin\\n \\nmore\\n \\ndetail:\\n \\nCore  Concepts  and  Components  \\n●  Public  Key  Infrastructure  (PKI)  and  Digital  Certificates:  \\n \\nSET\\n \\nleverages\\n \\na\\n \\nPKI\\n \\nframework\\n \\nto\\n \\nissue\\n \\nand\\n \\nvalidate\\n \\nX.509\\n \\ndigital\\n \\ncertificates.\\n \\nThese\\n \\ncertificates\\n \\nserve\\n \\nas\\n \\nelectronic\\n \\nIDs\\n \\nfor\\n \\nall\\n \\nparties—cardholder,\\n \\nmerchant,\\n \\nissuer,\\n \\nand\\n \\nacquirer—ensuring\\n \\nthat\\n \\neach\\n \\nparticipant\\n \\nis\\n \\nauthenticated\\n \\nbefore\\n \\na\\n \\ntransaction\\n \\nis\\n processed.  ●  Dual  Signatures:  \\n \\nOne\\n \\nof\\n \\nthe\\n \\nhallmark\\n \\nfeatures\\n \\nof\\n \\nSET\\n \\nis\\n \\nthe\\n \\nuse\\n \\nof\\n \\ndual\\n \\nsignatures.\\n \\nIn\\n \\na'"
            ],
            "application/vnd.google.colaboratory.intrinsic+json": {
              "type": "string"
            }
          },
          "metadata": {},
          "execution_count": 19
        }
      ]
    },
    {
      "cell_type": "code",
      "source": [
        "##Import our LLM Model\n",
        "from langchain_google_genai import ChatGoogleGenerativeAI\n",
        "\n",
        "llm = ChatGoogleGenerativeAI(model=\"gemini-2.0-flash\",google_api_key=GEMINI_API_KEY)"
      ],
      "metadata": {
        "id": "VBphOwrcNs6L"
      },
      "execution_count": 26,
      "outputs": []
    },
    {
      "cell_type": "code",
      "source": [
        "from langchain_core.prompts import ChatPromptTemplate\n",
        "prompt=ChatPromptTemplate.from_template(\"\"\"\n",
        "Answer the following question based only on the provided context.\n",
        "Think step by step before providing the detailed answer.\n",
        "<context>\n",
        "{context}\n",
        "</context>\n",
        "Question:{input}\"\"\")\n"
      ],
      "metadata": {
        "id": "e52H6bb8Os0e"
      },
      "execution_count": 22,
      "outputs": []
    },
    {
      "cell_type": "code",
      "source": [
        "##Chain Introduction\n",
        "\n",
        "\n",
        "from langchain.chains.combine_documents import create_stuff_documents_chain\n",
        "\n",
        "document_chain=create_stuff_documents_chain(llm,prompt)"
      ],
      "metadata": {
        "id": "IKPOVCbZQFK_"
      },
      "execution_count": 27,
      "outputs": []
    },
    {
      "cell_type": "code",
      "source": [
        "##We are using a Retrevier of langchain to retrieve the data from the vectorstore.Just search Retrievers in Langchain in the browser\n",
        "\n",
        "\n",
        "retriever=db.as_retriever()\n",
        "retriever"
      ],
      "metadata": {
        "colab": {
          "base_uri": "https://localhost:8080/"
        },
        "id": "ztOKcMbRRzfL",
        "outputId": "59e0abea-6434-4bae-f598-86a93d5137a2"
      },
      "execution_count": 28,
      "outputs": [
        {
          "output_type": "execute_result",
          "data": {
            "text/plain": [
              "VectorStoreRetriever(tags=['Chroma', 'GoogleGenerativeAIEmbeddings'], vectorstore=<langchain_community.vectorstores.chroma.Chroma object at 0x7cf67015ff50>, search_kwargs={})"
            ]
          },
          "metadata": {},
          "execution_count": 28
        }
      ]
    },
    {
      "cell_type": "code",
      "source": [
        "#Retriver chain\n",
        "\n",
        "#How does this work: When user asks a question,it goes to the retriever ..that takes the most import relevant topics.this topics and prpmt will be passed to the LLM using stuff document chain\n",
        "\n",
        "from langchain.chains import create_retrieval_chain\n",
        "retrieval_chain=create_retrieval_chain(retriever,document_chain)\n"
      ],
      "metadata": {
        "id": "X1ga-vnNSR2R"
      },
      "execution_count": 29,
      "outputs": []
    },
    {
      "cell_type": "code",
      "source": [
        "res=retrieval_chain.invoke({\"input\":\"What is SET\"})\n",
        "print(res)"
      ],
      "metadata": {
        "colab": {
          "base_uri": "https://localhost:8080/"
        },
        "id": "yMM_S8yxTB4l",
        "outputId": "dd7f1607-a2a9-4ebe-ebb6-99ef56ced094"
      },
      "execution_count": 36,
      "outputs": [
        {
          "output_type": "stream",
          "name": "stdout",
          "text": [
            "{'input': 'What is SET', 'context': [Document(metadata={'creator': 'PyPDF', 'producer': 'Skia/PDF m136 Google Docs Renderer', 'page_label': '1', 'creationdate': '', 'page': 0, 'total_pages': 7, 'source': '/content/SET- Secure Electronic Transaction.pdf', 'title': 'SET- Secure Electronic Transaction'}, page_content='SET-Secure  Electronic  Transaction  \\n \\nSecure  Electronic  Transaction  (SET)  is  much  more  than  a  simple  encryption  method—it’s  an  \\nentire\\n \\nprotocol\\n \\ndesigned\\n \\nin\\n \\nthe\\n \\nmid\\n‑\\n1990s\\n \\nby\\n \\na\\n \\nconsortium\\n \\nincluding\\n \\nVisa,\\n \\nMasterCard,\\n \\nIBM,\\n \\nMicrosoft,\\n \\nNetscape,\\n \\nand\\n \\nothers\\n \\nto\\n \\nsecure\\n \\nonline\\n \\ncredit\\n \\nand\\n \\ndebit\\n \\ncard\\n \\ntransactions.\\n \\nLet’s\\n \\nbreak\\n \\ndown\\n \\nits\\n \\nkey\\n \\naspects\\n \\nin\\n \\nmore\\n \\ndetail:\\n \\nCore  Concepts  and  Components  \\n●  Public  Key  Infrastructure  (PKI)  and  Digital  Certificates:  \\n \\nSET\\n \\nleverages\\n \\na\\n \\nPKI\\n \\nframework\\n \\nto\\n \\nissue\\n \\nand\\n \\nvalidate\\n \\nX.509\\n \\ndigital\\n \\ncertificates.\\n \\nThese\\n \\ncertificates\\n \\nserve\\n \\nas\\n \\nelectronic\\n \\nIDs\\n \\nfor\\n \\nall\\n \\nparties—cardholder,\\n \\nmerchant,\\n \\nissuer,\\n \\nand\\n \\nacquirer—ensuring\\n \\nthat\\n \\neach\\n \\nparticipant\\n \\nis\\n \\nauthenticated\\n \\nbefore\\n \\na\\n \\ntransaction\\n \\nis\\n processed.  ●  Dual  Signatures:  \\n \\nOne\\n \\nof\\n \\nthe\\n \\nhallmark\\n \\nfeatures\\n \\nof\\n \\nSET\\n \\nis\\n \\nthe\\n \\nuse\\n \\nof\\n \\ndual\\n \\nsignatures.\\n \\nIn\\n \\na'), Document(metadata={'producer': 'Skia/PDF m136 Google Docs Renderer', 'source': '/content/SET- Secure Electronic Transaction.pdf', 'creationdate': '', 'creator': 'PyPDF', 'total_pages': 7, 'page': 0, 'title': 'SET- Secure Electronic Transaction', 'page_label': '1'}, page_content='is\\n \\nauthenticated\\n \\nbefore\\n \\na\\n \\ntransaction\\n \\nis\\n processed.  ●  Dual  Signatures:  \\n \\nOne\\n \\nof\\n \\nthe\\n \\nhallmark\\n \\nfeatures\\n \\nof\\n \\nSET\\n \\nis\\n \\nthe\\n \\nuse\\n \\nof\\n \\ndual\\n \\nsignatures.\\n \\nIn\\n \\na\\n \\ntransaction,\\n \\nthe\\n \\ncardholder\\n \\ncreates\\n \\ntwo\\n \\nseparate\\n \\ndata\\n \\nstreams:\\n \\none\\n \\ncontains\\n \\nthe\\n \\norder\\n \\ninformation\\n \\n(OI)\\n \\nfor\\n \\nthe\\n \\nmerchant,\\n \\nand\\n \\nthe\\n \\nother\\n \\nholds\\n \\nthe\\n \\npayment\\n \\ninformation\\n \\n(PI)\\n \\nfor\\n \\nthe\\n \\nbank.\\n \\nThe\\n \\ncardholder\\n \\nthen\\n \\ncomputes\\n \\nseparate\\n \\nhash\\n \\nvalues\\n \\nfor\\n \\neach,\\n \\nconcatenates\\n \\nthese\\n \\nhashes,\\n \\nand\\n \\nencrypts\\n \\nthe\\n \\nresult\\n \\nwith\\n \\ntheir\\n \\nprivate\\n \\nkey.\\n \\n ○  Purpose:  This  mechanism  allows  the  merchant  to  verify  the  integrity  and  \\nauthenticity\\n \\nof\\n \\nthe\\n \\norder\\n \\nwithout\\n \\naccessing\\n \\nsensitive\\n \\npayment\\n \\ndetails,\\n \\nwhile\\n \\nthe\\n \\nbank\\n \\ncan\\n \\nvalidate\\n \\nthe\\n \\npayment\\n \\ninformation\\n \\nindependently.\\n  ●  Encryption  Techniques:  \\n \\nSET\\n \\nuses\\n \\na\\n \\ncombination\\n \\nof\\n \\nsymmetric\\n \\nand\\n \\nasymmetric\\n \\nencryption:'), Document(metadata={'producer': 'Skia/PDF m136 Google Docs Renderer', 'total_pages': 7, 'source': '/content/SET- Secure Electronic Transaction.pdf', 'creationdate': '', 'page': 0, 'title': 'SET- Secure Electronic Transaction', 'creator': 'PyPDF', 'page_label': '1'}, page_content='while\\n \\nthe\\n \\nbank\\n \\ncan\\n \\nvalidate\\n \\nthe\\n \\npayment\\n \\ninformation\\n \\nindependently.\\n  ●  Encryption  Techniques:  \\n \\nSET\\n \\nuses\\n \\na\\n \\ncombination\\n \\nof\\n \\nsymmetric\\n \\nand\\n \\nasymmetric\\n \\nencryption:\\n \\n ○  Asymmetric  Encryption:  Public  and  private  key  pairs  (commonly  RSA)  are  \\nused\\n \\nto\\n \\nexchange\\n \\nsession\\n \\nkeys\\n \\nsecurely.\\n \\n ○  Symmetric  Encryption:  Algorithms  like  DES  (though  now  considered  outdated)  \\nwere\\n \\noriginally\\n \\nused\\n \\nfor\\n \\nencrypting\\n \\nthe\\n \\nbulk\\n \\nof\\n \\nthe\\n \\ntransaction\\n \\ndata\\n \\ndue\\n \\nto\\n \\ntheir\\n \\nspeed.\\n \\n \\n \\n \\nHow  SET  Works:  A  Step-by-Step  Overview  \\n1.  Registration  and  Certificate  Exchange:  \\n \\nBoth\\n \\nthe\\n \\ncardholder\\n \\nand\\n \\nthe\\n \\nmerchant\\n \\nmust\\n \\nregister\\n \\nwith\\n \\na\\n \\ntrusted\\n \\nCertificate\\n \\nAuthority'), Document(metadata={'page_label': '2', 'producer': 'Skia/PDF m136 Google Docs Renderer', 'creationdate': '', 'title': 'SET- Secure Electronic Transaction', 'creator': 'PyPDF', 'page': 1, 'source': '/content/SET- Secure Electronic Transaction.pdf', 'total_pages': 7}, page_content='(CA)  to  obtain  their  digital  certificates.  This  setup  step  is  crucial  for  establishing  trust  and  \\nensuring\\n \\nsecure\\n \\nkey\\n \\nexchanges.\\n \\n 2.  Initiation  of  Transaction:  \\n \\nWhen\\n \\na\\n \\npurchase\\n \\nis\\n \\ninitiated,\\n \\nthe\\n \\ncustomer’s\\n \\ndigital\\n \\nwallet\\n \\n(a\\n \\nsecure\\n \\nsoftware\\n \\ncontainer)\\n \\nis\\n \\nused\\n \\nto\\n \\nmanage\\n \\ntheir\\n \\ncertificates\\n \\nand\\n \\nkeys.\\n \\n 3.  Data  Separation  and  Dual  Signature  Creation:  \\n ○  Order  Information  (OI):  Contains  details  of  the  items  to  be  purchased  and  is  \\nsent\\n \\nto\\n \\nthe\\n \\nmerchant.\\n \\n ○  Payment  Information  (PI):  Contains  sensitive  payment  details  and  is  intended  \\nfor\\n \\nthe\\n \\nbank\\n \\nonly.\\n \\n \\nThe\\n \\ncardholder\\n \\ncomputes\\n \\nindividual\\n \\nmessage\\n \\ndigests\\n \\n(hashes)\\n \\nfor\\n \\nOI\\n \\nand\\n \\nPI,\\n \\nconcatenates\\n \\nthem,\\n \\nand\\n \\nthen\\n \\ncreates\\n \\na\\n \\ndual\\n \\nsignature\\n \\nby\\n \\nencrypting\\n \\nthe\\n \\nresulting\\n \\nhash\\n \\nwith\\n \\ntheir\\n \\nprivate\\n \\nkey.\\n \\n 4.  Secure  Transmission:')], 'answer': 'SET (Secure Electronic Transaction) is a protocol designed in the mid-1990s by a consortium including Visa, MasterCard, IBM, Microsoft, Netscape, and others to secure online credit and debit card transactions. It is more than a simple encryption method.'}\n"
          ]
        }
      ]
    },
    {
      "cell_type": "code",
      "source": [
        "res[\"answer\"]"
      ],
      "metadata": {
        "colab": {
          "base_uri": "https://localhost:8080/",
          "height": 53
        },
        "id": "1Uz5O86mTlYs",
        "outputId": "1ea9d83d-0a19-45c9-c131-7e30b80ac26d"
      },
      "execution_count": 34,
      "outputs": [
        {
          "output_type": "execute_result",
          "data": {
            "text/plain": [
              "'SET (Secure Electronic Transaction) is a protocol designed in the mid-1990s by a consortium including Visa, MasterCard, IBM, Microsoft, Netscape, and others to secure online credit and debit card transactions. It is more than a simple encryption method.'"
            ],
            "application/vnd.google.colaboratory.intrinsic+json": {
              "type": "string"
            }
          },
          "metadata": {},
          "execution_count": 34
        }
      ]
    }
  ]
}
